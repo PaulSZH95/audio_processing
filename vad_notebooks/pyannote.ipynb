{
  "cells": [
    {
      "cell_type": "markdown",
      "metadata": {
        "id": "98D_Tp0XtkSQ"
      },
      "source": [
        "<a href=\"https://colab.research.google.com/github/PaulSZH95/audio_processing/blob/main/vad_notebooks/pyannote.ipynb\" target=\"_parent\"><img src=\"https://colab.research.google.com/assets/colab-badge.svg\" alt=\"Open In Colab\"/></a>"
      ]
    },
    {
      "cell_type": "markdown",
      "metadata": {
        "id": "AMQCZd1mh2ry"
      },
      "source": [
        "# Voice Activity Detection\n",
        "\n",
        "Voice Activity Detection (VAD) is a crucial task within the field of audio processing. Traditionally, this task has been addressed using classical methods, such as bandpass filters. However, classical approaches often demand manual tuning of frequency bands and algorithms rooted in signal processing concepts, which can be time-consuming.\n",
        "\n",
        "In recent times, Machine Learning (ML) has made significant inroads into signal processing, reducing the need for extensive manual adjustments. Before diving into this notebook, it's essential to have a fundamental understanding of audio processing. I recommend taking the [Huggingface audio course](https://huggingface.co/learn/audio-course/chapter0/introduction) for a comprehensive introduction.\n",
        "\n",
        "**In this notebook, we will immediately delve into the implementation of sincnet functions as feature extractors for audio processing.**\n"
      ]
    },
    {
      "cell_type": "markdown",
      "metadata": {
        "id": "wqqA1XvQs8SD"
      },
      "source": [
        "# Dataset Setup Instructions\n",
        "\n",
        "Follow these steps to set up the required dataset for your project:\n",
        "\n",
        "**Note:** Make sure to uncomment the lines to run the cells as needed.\n",
        "\n",
        "1. Set up the database using a CPU runtime.\n",
        "\n",
        "2. Our motivation is to download pyannote-setup configs and the AMI dataset prepared by the library creator.\n",
        "\n",
        "3. Mount your drive and move the downloaded files into your drive for ease of reuse.\n",
        "\n",
        "4. Edit the `database.yml` file located at `/content/drive/MyDrive/AMI-diarization-setup-main/pyannote/database.yml`. Change the following lines:\n",
        "\n",
        "   ```yaml\n",
        "   AMI: amicorpus/{uri}/audio/{uri}.Mix-Headset.wav\n",
        "   AMI-SDM: amicorpus/{uri}/audio/{uri}.Array1-01.wav\n",
        "   to\n",
        "   AMI: ../../amicorpus/{uri}/audio/{uri}.Mix-Headset.wav\n",
        "   AMI-SDM: ../../amicorpus/{uri}/audio/{uri}.Array1-01.wav\n"
      ]
    },
    {
      "cell_type": "code",
      "execution_count": 154,
      "metadata": {
        "id": "0wehUJi2sU2U"
      },
      "outputs": [],
      "source": [
        "# from google.colab import drive\n",
        "# drive.mount('/content/drive')"
      ]
    },
    {
      "cell_type": "code",
      "execution_count": null,
      "metadata": {
        "id": "5KgmJftPTibB"
      },
      "outputs": [],
      "source": [
        "# !unzip main.zip"
      ]
    },
    {
      "cell_type": "code",
      "execution_count": 4,
      "metadata": {
        "colab": {
          "base_uri": "https://localhost:8080/",
          "height": 36
        },
        "id": "ks0jIdNCV9WS",
        "outputId": "d90cd734-a30c-426b-d2c0-709daa20bed7"
      },
      "outputs": [
        {
          "data": {
            "application/vnd.google.colaboratory.intrinsic+json": {
              "type": "string"
            },
            "text/plain": [
              "'AMI-diarization-setup-main'"
            ]
          },
          "execution_count": 4,
          "metadata": {},
          "output_type": "execute_result"
        }
      ],
      "source": [
        "# import os\n",
        "# ami_setup = [_ for _ in os.listdir() if \"ami\" in _.lower()][0]\n",
        "# ami_setup"
      ]
    },
    {
      "cell_type": "code",
      "execution_count": null,
      "metadata": {
        "id": "3Ws3r-D4VMuT"
      },
      "outputs": [],
      "source": [
        "# !sh AMI-diarization-setup-main/pyannote/download_ami.sh"
      ]
    },
    {
      "cell_type": "code",
      "execution_count": 6,
      "metadata": {
        "id": "gPhWIwh6XAXy"
      },
      "outputs": [],
      "source": [
        "# !mv amicorpus drive/MyDrive/"
      ]
    },
    {
      "cell_type": "code",
      "execution_count": 7,
      "metadata": {
        "id": "7nk5PgSXjGSD"
      },
      "outputs": [],
      "source": [
        "# !mv AMI-diarization-setup-main drive/MyDrive/"
      ]
    },
    {
      "cell_type": "markdown",
      "metadata": {
        "id": "tF_9bdEOn7PE"
      },
      "source": [
        "# Training Stage\n",
        "\n",
        "Follow these steps to begin the training stage for your project:\n",
        "\n",
        "1. **Switch to GPU Runtime:** Please change to a GPU runtime now to accelerate the training process.\n",
        "\n",
        "2. **Follow Cell Execution:** Once on GPU runtime, follow each cell closely and execute them in sequence.\n",
        "\n",
        "## What is SincNet?\n",
        "\n",
        "[SincNet](https://arxiv.org/pdf/1811.09725.pdf) is an implementation of sinc algorithms. Instead of using it as a bandpass filter, it is employed as a convolutional layer. The Pyannote SincNet block is initialized with mel spectrogram frequencies, which is similar to using MFCC (Mel-frequency cepstral coefficients). The rationale behind this approach is not just MFCC modeling but also capturing audio patterns similar to the pitch that the human ear detects.\n",
        "\n",
        "Refer to the [SincNet paper](https://arxiv.org/pdf/1811.09725.pdf) for detailed coverage of this technique.\n",
        "\n",
        "Now, proceed with the training stage, making the most of the GPU runtime and the SincNet approach to enhance your project's performance.\n"
      ]
    },
    {
      "cell_type": "code",
      "execution_count": 153,
      "metadata": {
        "colab": {
          "base_uri": "https://localhost:8080/"
        },
        "id": "bC6PPTzrsYrv",
        "outputId": "cf2df387-2fbc-496e-ef97-b7ab31083a3a"
      },
      "outputs": [
        {
          "name": "stdout",
          "output_type": "stream",
          "text": [
            "Drive already mounted at /content/drive; to attempt to forcibly remount, call drive.mount(\"/content/drive\", force_remount=True).\n"
          ]
        }
      ],
      "source": [
        "from google.colab import drive\n",
        "drive.mount('/content/drive')"
      ]
    },
    {
      "cell_type": "markdown",
      "metadata": {
        "id": "5cb6TmzX3G9w"
      },
      "source": [
        "## Colab is not exactly compatible with pyannote, at least for this vad model.\n",
        "#### 1) remember to reinstall torch to ennsure all torch related libraries are compatible\n",
        "#### 2) After all the installation and cp of files, remember to select restart under the top left runtime tab\n",
        "#### 3) Don't be afraid of all the red errors, it is a part of life :)"
      ]
    },
    {
      "cell_type": "code",
      "execution_count": null,
      "metadata": {
        "id": "xlqT4uQgkPVF"
      },
      "outputs": [],
      "source": [
        "!pip install pyannote-audio==2.1.1\n",
        "!pip install pyannote-core==4.5\n",
        "!pip install pyannote-database==5.0.1\n",
        "# the recommended seems to be\n",
        "!pip install torchmetrics==0.10.3\n",
        "!pip install pyannote-pipeline==2.3\n",
        "!pip install mlflow\n",
        "# !pip install pytorch_metric_learning"
      ]
    },
    {
      "cell_type": "code",
      "execution_count": null,
      "metadata": {
        "colab": {
          "base_uri": "https://localhost:8080/"
        },
        "id": "7Wl3JNHYXk_9",
        "outputId": "f045d33a-9888-4c62-d2a7-f08359451ab9"
      },
      "outputs": [],
      "source": [
        "!pip3 uninstall torch torchvision torchaudio -y\n",
        "!pip3 install torch torchvision torchaudio"
      ]
    },
    {
      "cell_type": "code",
      "execution_count": 4,
      "metadata": {
        "id": "puR-amT7cEXV"
      },
      "outputs": [],
      "source": [
        "!cp -r /content/drive/MyDrive/AMI-diarization-setup-main /content/AMI-diarization-setup-main\n",
        "!cp -r /content/drive/MyDrive/amicorpus /content/amicorpus"
      ]
    },
    {
      "cell_type": "markdown",
      "metadata": {
        "id": "j_BWjPgo6QKH"
      },
      "source": [
        "# SPECIAL INSTRUCTION\n",
        "**Restart Runtime now before running below**"
      ]
    },
    {
      "cell_type": "code",
      "execution_count": null,
      "metadata": {
        "colab": {
          "base_uri": "https://localhost:8080/"
        },
        "id": "S-pinT8lk8-4",
        "outputId": "86795598-9638-4785-9015-2b624b399b62"
      },
      "outputs": [],
      "source": [
        "import os\n",
        "os.environ[\"PYANNOTE_DATABASE_CONFIG\"] = '/content/AMI-diarization-setup-main/pyannote/database.yml'\n",
        "\n",
        "# used to automatically find paths to wav files\n",
        "from pyannote.database import FileFinder\n",
        "preprocessors = {'audio': FileFinder()}\n",
        "\n",
        "# initialize 'only_words' experimental protocol\n",
        "from pyannote.database import get_protocol\n",
        "ami = get_protocol('AMI.SpeakerDiarization.only_words', preprocessors=preprocessors)"
      ]
    },
    {
      "cell_type": "code",
      "execution_count": 2,
      "metadata": {
        "id": "Dsg4bx10jL0C"
      },
      "outputs": [],
      "source": [
        "# RUN THIS, THERE SHOULD BE NO ERROR. IF ERROR, PLEASE FIX BEFORE PROCEEDING\n",
        "for file in ami.train():\n",
        "    meeting = file['uri']\n",
        "    reference = file['annotation']\n",
        "    path = file['audio']\n",
        "    break"
      ]
    },
    {
      "cell_type": "code",
      "execution_count": 3,
      "metadata": {
        "colab": {
          "base_uri": "https://localhost:8080/"
        },
        "id": "t_gB6ZtAmVGI",
        "outputId": "0df2e9c4-9a3c-4c86-dc58-779671e3ad73"
      },
      "outputs": [
        {
          "name": "stdout",
          "output_type": "stream",
          "text": [
            "Protocol AMI.SpeakerDiarization.only_words does not precompute the output of torchaudio.info(): adding a 'torchaudio.info' preprocessor for you to speed up dataloaders. See pyannote.database documentation on how to do that yourself.\n"
          ]
        }
      ],
      "source": [
        "from pyannote.audio.tasks import VoiceActivityDetection\n",
        "vad = VoiceActivityDetection(ami, duration=2., batch_size=512)\n",
        "from pyannote.audio.models.segmentation import PyanNet\n",
        "model = PyanNet(sincnet={'stride': 10}, task=vad)"
      ]
    },
    {
      "cell_type": "code",
      "execution_count": 4,
      "metadata": {
        "colab": {
          "base_uri": "https://localhost:8080/"
        },
        "id": "DgxXCwpurALg",
        "outputId": "9a13f5c5-34ad-4aa0-a5e1-b68aff226d13"
      },
      "outputs": [
        {
          "name": "stdout",
          "output_type": "stream",
          "text": [
            "VoiceActivityDetection-AMISpeakerDiarizationonly_words-AUROC max\n"
          ]
        }
      ],
      "source": [
        "from pytorch_lightning.callbacks import (\n",
        "    EarlyStopping,\n",
        "    ModelCheckpoint\n",
        ")\n",
        "monitor, direction = vad.val_monitor\n",
        "print(monitor, direction)\n",
        "# don't waste space, just save top3 is good enough\n",
        "checkpoint = ModelCheckpoint(\n",
        "    monitor=monitor,\n",
        "    mode=direction,\n",
        "    save_top_k=3,\n",
        "    every_n_epochs=1,\n",
        "    save_last=False,\n",
        "    save_weights_only=False,\n",
        "    verbose=False,\n",
        ")\n",
        "# stop early if there's not a lot of diff\n",
        "early_stopping = EarlyStopping(\n",
        "    monitor=monitor,\n",
        "    mode=direction,\n",
        "    min_delta=0.1,\n",
        "    patience=3,\n",
        "    strict=True,\n",
        "    verbose=False,\n",
        ")\n",
        "callbacks = [checkpoint, early_stopping]"
      ]
    },
    {
      "cell_type": "code",
      "execution_count": 13,
      "metadata": {
        "colab": {
          "base_uri": "https://localhost:8080/",
          "height": 493,
          "referenced_widgets": [
            "7988ccc7db144865946895d9fa48995a",
            "5f5d0d29ad7d470193486aea13449ada",
            "9d0f04b1d34a4a9781009c82161bc726",
            "90ae0d6de8304662b556cf21c864b153",
            "2226b3e790334030866605310140c6aa",
            "fc836cc09f4b4dae9416f8622be35510",
            "869cff477a90475980a80ecef4fb337b",
            "f116d91e14f440c8827b508694ee1d0b",
            "be641de8e2744e8798bffd4b3886ab9f",
            "188b9ec82add4325af7ab5182f602e63",
            "4aac5d721da5474293763b03e0effd0f",
            "8cfbc807e81a4607a9a19ca1e1815614",
            "95da4f28de414bc78a65f5741ff72c33",
            "f0b729d6fc184c2d95da9f7523afdafe",
            "b057696eec1c425f99cda47eedbec5b5",
            "098deb3a38724c3ca16c9b993ac8ecec",
            "5f7fc6633a5747e7addca76df781bad4",
            "caca7ebff5c245d286827881c2c34a93",
            "3b8703df9c5d41f7a3a0700a69b31af3",
            "ddc1aaddeda24e918537619de9e44590",
            "df2d2e0d73e344048c72ae68f13d36a9",
            "f7531d02633f4841a9483af8ac76757f",
            "40ddc9bf20d24c1db5bc45762c0720c8",
            "1f264d19d4b64f3bb2896cbb4a109e99",
            "cf78cea0583e42698212271a295cc675",
            "4539131e50fc40fabf3944ede4e95de1",
            "ec2a8a72f371432e9b5bf672315d9a91",
            "7274341402224dbb9c2c41c9b5bb1c21",
            "d617b42171264e7b8b53d4b333e89296",
            "96e598bd598b4b9e972f4fc7256ac6d7",
            "45f0d09141d24c54be4949a2ccec28c5",
            "8937324d94ba462c8e9e906b1fd0a0f7",
            "9e4bcb566f5142eaa896725a1ae8567d",
            "b40cfb52def44aa8ada172289e1dc2c6",
            "d56761af220b414fb45bf4261ebd6863",
            "048f4465e8784d5ebf1413e1941726be",
            "439c9c98e7b646e8b1776e287a2d31a9",
            "8801e2f7f51e4b25a7d2e97897d7fbba",
            "9269f1fb2e7a40fbac9816357124fabd",
            "e39aca76773042c28c99ece64582f7c0",
            "1d97566bbdfd4f52b2fcdb037f0fc665",
            "5988ce0ad3e146c0924eb5c6deb03822",
            "c75d021b07ce42e296c826be6733d5a8",
            "545676305cdd4838bb7b9c9191a80cb1",
            "d1a0902811ea4817b1c58b1cbf0f3642",
            "9f37a8cf3b374441baed13521c7f2cfd",
            "827e80c90b9148708d722aa1719eb21a",
            "0ae7260136d24566b664606c0bfd90b1",
            "aa4ff36dd9c048048467c14d1c42dac9",
            "c2b2d3a4908f4e17b4794753ba154af4",
            "b87983e2eace4ce38a492ee37436715f",
            "438c19159a06436ead7681a30844061d",
            "c817cc5bc13e4ce99a6c8db7d4c3979c",
            "9d0382ab86214e7697e354691d8b7f2e",
            "be2747a5bdf84d82a7d746095289c58c",
            "44113b7d3a894b9e8ab084c14b3b4466",
            "9cc3ae38a7094a2581486db241548149",
            "4cf0d0b58d9448438d3248e2dad7f18f",
            "d026d63d517c4919a12e3028c9463f36",
            "35370135be4f41d9ab100ab50d35e712",
            "e05bc84fd7e74589bfed96848fafe9aa",
            "6140913e32d1431b8ff87490a4756a56",
            "643bac68ce0e438b858facd19ba92a62",
            "6c7bafae198c459192d1353953ea0cb7",
            "d9359163328247d289998de0e2a70a54",
            "fa6eb374d665461180360a7744c3da9a"
          ]
        },
        "id": "9spdUKGTx57K",
        "outputId": "d7fbec0e-ad42-42c2-fc25-6e2c1414ecee"
      },
      "outputs": [
        {
          "name": "stderr",
          "output_type": "stream",
          "text": [
            "INFO:pytorch_lightning.utilities.rank_zero:Trainer already configured with model summary callbacks: [<class 'pytorch_lightning.callbacks.model_summary.ModelSummary'>]. Skipping setting a default `ModelSummary` callback.\n",
            "INFO:pytorch_lightning.utilities.rank_zero:GPU available: True, used: True\n",
            "INFO:pytorch_lightning.utilities.rank_zero:TPU available: False, using: 0 TPU cores\n",
            "INFO:pytorch_lightning.utilities.rank_zero:IPU available: False, using: 0 IPUs\n",
            "INFO:pytorch_lightning.utilities.rank_zero:HPU available: False, using: 0 HPUs\n",
            "WARNING:pytorch_lightning.loggers.tensorboard:Missing logger folder: /content/lightning_logs\n",
            "INFO:pytorch_lightning.accelerators.gpu:LOCAL_RANK: 0 - CUDA_VISIBLE_DEVICES: [0]\n",
            "INFO:pytorch_lightning.callbacks.model_summary:\n",
            "  | Name              | Type             | Params | In sizes        | Out sizes                                        \n",
            "-----------------------------------------------------------------------------------------------------------------------------\n",
            "0 | sincnet           | SincNet          | 42.6 K | [512, 1, 32000] | [512, 60, 115]                                   \n",
            "1 | lstm              | LSTM             | 589 K  | [512, 115, 60]  | [[512, 115, 256], [[4, 512, 128], [4, 512, 128]]]\n",
            "2 | linear            | ModuleList       | 49.4 K | ?               | ?                                                \n",
            "3 | classifier        | Linear           | 129    | [512, 115, 128] | [512, 115, 1]                                    \n",
            "4 | activation        | Sigmoid          | 0      | [512, 115, 1]   | [512, 115, 1]                                    \n",
            "5 | validation_metric | MetricCollection | 0      | ?               | ?                                                \n",
            "-----------------------------------------------------------------------------------------------------------------------------\n",
            "681 K     Trainable params\n",
            "0         Non-trainable params\n",
            "681 K     Total params\n",
            "2.728     Total estimated model params size (MB)\n"
          ]
        },
        {
          "data": {
            "application/vnd.jupyter.widget-view+json": {
              "model_id": "7988ccc7db144865946895d9fa48995a",
              "version_major": 2,
              "version_minor": 0
            },
            "text/plain": [
              "Sanity Checking: 0it [00:00, ?it/s]"
            ]
          },
          "metadata": {},
          "output_type": "display_data"
        },
        {
          "data": {
            "application/vnd.jupyter.widget-view+json": {
              "model_id": "8cfbc807e81a4607a9a19ca1e1815614",
              "version_major": 2,
              "version_minor": 0
            },
            "text/plain": [
              "Training: 0it [00:00, ?it/s]"
            ]
          },
          "metadata": {},
          "output_type": "display_data"
        },
        {
          "data": {
            "application/vnd.jupyter.widget-view+json": {
              "model_id": "40ddc9bf20d24c1db5bc45762c0720c8",
              "version_major": 2,
              "version_minor": 0
            },
            "text/plain": [
              "Validation: 0it [00:00, ?it/s]"
            ]
          },
          "metadata": {},
          "output_type": "display_data"
        },
        {
          "data": {
            "application/vnd.jupyter.widget-view+json": {
              "model_id": "b40cfb52def44aa8ada172289e1dc2c6",
              "version_major": 2,
              "version_minor": 0
            },
            "text/plain": [
              "Validation: 0it [00:00, ?it/s]"
            ]
          },
          "metadata": {},
          "output_type": "display_data"
        },
        {
          "data": {
            "application/vnd.jupyter.widget-view+json": {
              "model_id": "d1a0902811ea4817b1c58b1cbf0f3642",
              "version_major": 2,
              "version_minor": 0
            },
            "text/plain": [
              "Validation: 0it [00:00, ?it/s]"
            ]
          },
          "metadata": {},
          "output_type": "display_data"
        },
        {
          "data": {
            "application/vnd.jupyter.widget-view+json": {
              "model_id": "44113b7d3a894b9e8ab084c14b3b4466",
              "version_major": 2,
              "version_minor": 0
            },
            "text/plain": [
              "Validation: 0it [00:00, ?it/s]"
            ]
          },
          "metadata": {},
          "output_type": "display_data"
        }
      ],
      "source": [
        "import pytorch_lightning as pl\n",
        "# import mlflow\n",
        "# mlflow.set_experiment(\"abc\")\n",
        "# mlflow.start_run()\n",
        "call_trainer = pl.Trainer(devices=1, callbacks=callbacks,accelerator=\"auto\", max_epochs=15)\n",
        "call_trainer.fit(model)\n",
        "# mlflow.end_run()"
      ]
    },
    {
      "cell_type": "code",
      "execution_count": null,
      "metadata": {
        "id": "xA94nwFiooao"
      },
      "outputs": [],
      "source": [
        "!mv lightning_logs /content/drive/MyDrive/lightning_logs"
      ]
    },
    {
      "cell_type": "markdown",
      "metadata": {
        "id": "MD4NfDit0ev4"
      },
      "source": [
        "# Inferencing Instructions\n",
        "\n",
        "Follow these steps for inferencing in your project:\n",
        "\n",
        "1. **Switch to CPU Runtime:** To save your GPU allocation, end your GPU runtime and switch to a CPU runtime.\n",
        "\n",
        "2. **Utilize Pyannote Segment Objects:** Pyannote segment objects come prebuilt with a graphical interface, but they haven't been used in this project. Instead, all segment objects have been converted into numerical values. You can choose to create plots with these numerical values if desired.\n",
        "\n",
        "By switching to a CPU runtime and working with numerical values for segment objects, you can efficiently perform inferencing for your project.\n",
        "\n",
        "Feel free to proceed with inferencing according to these instructions.\n"
      ]
    },
    {
      "cell_type": "code",
      "execution_count": 1,
      "metadata": {
        "colab": {
          "base_uri": "https://localhost:8080/"
        },
        "id": "KQ5uvNgvLpMY",
        "outputId": "17f67e65-2817-4e5c-acde-e995c286d6a6"
      },
      "outputs": [
        {
          "name": "stdout",
          "output_type": "stream",
          "text": [
            "Mounted at /content/drive\n"
          ]
        }
      ],
      "source": [
        "from google.colab import drive\n",
        "drive.mount('/content/drive')"
      ]
    },
    {
      "cell_type": "code",
      "execution_count": null,
      "metadata": {
        "id": "rt1ohR_Q0t4S"
      },
      "outputs": [],
      "source": [
        "!pip install pyannote-audio==2.1.1\n",
        "!pip install pyannote-core==4.5\n",
        "!pip install pyannote-database==5.0.1\n",
        "# the recommended seems to be\n",
        "!pip install torchmetrics==0.10.3\n",
        "!pip install pyannote-pipeline==2.3\n",
        "!pip install mlflow\n",
        "# !pip install pytorch_metric_learning"
      ]
    },
    {
      "cell_type": "code",
      "execution_count": null,
      "metadata": {
        "id": "RUfxXD6f1Uny"
      },
      "outputs": [],
      "source": [
        "!pip3 uninstall torch torchvision torchaudio -y\n",
        "!pip3 install torch torchvision torchaudio"
      ]
    },
    {
      "cell_type": "code",
      "execution_count": 1,
      "metadata": {
        "colab": {
          "base_uri": "https://localhost:8080/"
        },
        "id": "g3Qw3zcq1af5",
        "outputId": "1fb2e8ef-150a-437a-ead6-289c3cb48087"
      },
      "outputs": [
        {
          "name": "stdout",
          "output_type": "stream",
          "text": [
            "'AMI-SDM.SpeakerDiarization.only_words' found in /content/drive/MyDrive/AMI-diarization-setup-main/pyannote/database.yml does not define the 'scope' of speaker labels (file, database, or global). Setting it to 'file'.\n",
            "'AMI-SDM.SpeakerDiarization.mini' found in /content/drive/MyDrive/AMI-diarization-setup-main/pyannote/database.yml does not define the 'scope' of speaker labels (file, database, or global). Setting it to 'file'.\n",
            "'AMI.SpeakerDiarization.only_words' found in /content/drive/MyDrive/AMI-diarization-setup-main/pyannote/database.yml does not define the 'scope' of speaker labels (file, database, or global). Setting it to 'file'.\n",
            "'AMI.SpeakerDiarization.mini' found in /content/drive/MyDrive/AMI-diarization-setup-main/pyannote/database.yml does not define the 'scope' of speaker labels (file, database, or global). Setting it to 'file'.\n",
            "'AMI.SpeakerDiarization.word_and_vocalsounds' found in /content/drive/MyDrive/AMI-diarization-setup-main/pyannote/database.yml does not define the 'scope' of speaker labels (file, database, or global). Setting it to 'file'.\n"
          ]
        }
      ],
      "source": [
        "import os\n",
        "os.environ[\"PYANNOTE_DATABASE_CONFIG\"] = '/content/drive/MyDrive/AMI-diarization-setup-main/pyannote/database.yml'\n",
        "\n",
        "# used to automatically find paths to wav files\n",
        "from pyannote.database import FileFinder\n",
        "preprocessors = {'audio': FileFinder()}\n",
        "\n",
        "# initialize 'only_words' experimental protocol\n",
        "from pyannote.database import get_protocol\n",
        "ami = get_protocol('AMI.SpeakerDiarization.only_words', preprocessors=preprocessors)"
      ]
    },
    {
      "cell_type": "code",
      "execution_count": 2,
      "metadata": {
        "id": "gKlbQK631XWQ"
      },
      "outputs": [],
      "source": [
        "from pyannote.audio import Model, Inference\n",
        "mod_path = \"/content/drive/MyDrive/lightning_logs/version_0/checkpoints/epoch3.ckpt\"\n",
        "model = Model.from_pretrained(mod_path)\n",
        "vad_infer = Inference(model)"
      ]
    },
    {
      "cell_type": "code",
      "execution_count": 3,
      "metadata": {
        "colab": {
          "base_uri": "https://localhost:8080/"
        },
        "id": "l8pJPlci44Ba",
        "outputId": "01c10736-6f2c-48bd-aefd-393233a9f797"
      },
      "outputs": [
        {
          "data": {
            "text/plain": [
              "<pyannote.audio.pipelines.voice_activity_detection.VoiceActivityDetection at 0x7dbe1c8b4190>"
            ]
          },
          "execution_count": 3,
          "metadata": {},
          "output_type": "execute_result"
        }
      ],
      "source": [
        "from pyannote.audio.pipelines import VoiceActivityDetection\n",
        "pipeline = VoiceActivityDetection(segmentation=model)\n",
        "initial_params = {\"onset\": 0.5, \"offset\": 0.5,\n",
        "                  \"min_duration_on\": 0.0, \"min_duration_off\": 0.0}\n",
        "pipeline.instantiate(initial_params)"
      ]
    },
    {
      "cell_type": "code",
      "execution_count": 6,
      "metadata": {
        "id": "CT5Szk0x9GCM"
      },
      "outputs": [],
      "source": [
        "# convert ami.train into key:value format:\n",
        "formated_ami = {data['uri']:data for data in ami.train()}"
      ]
    },
    {
      "cell_type": "code",
      "execution_count": 10,
      "metadata": {
        "id": "JDc04mLj8Q_f"
      },
      "outputs": [],
      "source": [
        "# lets just look at one of the file 'IS1000a'\n",
        "file = formated_ami[\"IS1000a\"]\n",
        "ground = list(file[\"annotation\"].get_timeline().support())\n",
        "restruct_ground = [(seg.start,seg.end) for seg in ground]\n",
        "pred = list(pipeline(file).get_timeline().support())\n",
        "restruct_pred = [(seg.start,seg.end) for seg in pred]\n",
        "proba = list(vad_infer(file))\n",
        "restruct_proba = [[(seg[0].start, seg[0].end), round(seg[1].item(),4)] for seg in proba]"
      ]
    },
    {
      "cell_type": "code",
      "execution_count": 49,
      "metadata": {
        "colab": {
          "base_uri": "https://localhost:8080/"
        },
        "id": "yDU4lUYpExS3",
        "outputId": "b2386a7a-adfb-4cbf-9861-af549b96039a"
      },
      "outputs": [
        {
          "name": "stdout",
          "output_type": "stream",
          "text": [
            "<class 'numpy.ndarray'>\n",
            "(25322667,)\n"
          ]
        }
      ],
      "source": [
        "import torchaudio\n",
        "import numpy as np\n",
        "waveform = torchaudio.load(file[\"audio\"])\n",
        "audio_form = waveform[0].numpy().flatten()\n",
        "print(type(audio_form))\n",
        "zeros_like_aud = np.zeros_like(audio_form)\n",
        "print(zeros_like_aud.shape)"
      ]
    },
    {
      "cell_type": "code",
      "execution_count": 55,
      "metadata": {
        "id": "BEUAsukBFuTF"
      },
      "outputs": [],
      "source": [
        "import copy\n",
        "def annotate_where_activity(zeros_like_audio, array_of_seg):\n",
        "  dummy_use = copy.deepcopy(zeros_like_audio)\n",
        "  for seg in array_of_seg:\n",
        "    idx_left,idx_right = 16000 * round(seg[0],4),16000 * round(seg[1],4)\n",
        "    dummy_use[int(idx_left):int(idx_right+1)] = 1\n",
        "  return dummy_use"
      ]
    },
    {
      "cell_type": "code",
      "execution_count": 56,
      "metadata": {
        "id": "iey9x2i2LrDl"
      },
      "outputs": [],
      "source": [
        "seg_arr = [item[0] for item in restruct_proba]\n",
        "pred_0_1 = annotate_where_activity(zeros_like_aud,restruct_pred)\n",
        "grd_0_1 = annotate_where_activity(zeros_like_aud,restruct_ground)\n",
        "proba_0_1 = annotate_where_activity(zeros_like_aud,seg_arr)"
      ]
    },
    {
      "cell_type": "code",
      "execution_count": 57,
      "metadata": {
        "id": "qNzcLeveMlam"
      },
      "outputs": [],
      "source": [
        "# e.g. ground = [1,2,3] but pred = [2,2,2]. so mislabel indexes are [0,1]\n",
        "diff = pred_0_1 != grd_0_1\n",
        "diff_idx = np.where(diff)[0] # mislabel indx"
      ]
    },
    {
      "cell_type": "code",
      "execution_count": 79,
      "metadata": {
        "id": "DLTkncQEM2nf"
      },
      "outputs": [],
      "source": [
        "# we know this audio array is super long.\n",
        "# so then how can we differentiate mislabel seg from seg\n",
        "# e.g. grd = [1,2,3,4,5,6], prd = [1,0,0,4,0,0] . we know idx 1:2 and 4:5 are 2 diff seg.\n",
        "# one easy way to pinpoubt the seg is by [2,4,5] - [1,2,4] - -> [1,2,1]\n",
        "# we see mislabel of a seg have diff of 1 and other seg have > 1\n",
        "leap_in_index = np.where(diff_idx[1:]- diff_idx[:-1]  > 1)[0]"
      ]
    },
    {
      "cell_type": "code",
      "execution_count": 113,
      "metadata": {
        "id": "tdGizN71PJdn"
      },
      "outputs": [],
      "source": [
        "# since the calculation only find where > 0, we need to manually include index of 0 and last_idx\n",
        "full = np.concatenate(([0], leap_in_index,[len(diff_idx)-2]))"
      ]
    },
    {
      "cell_type": "code",
      "execution_count": 114,
      "metadata": {
        "id": "P_AkXgBiQHRW"
      },
      "outputs": [],
      "source": [
        "# so what we want is to structure full array into a [start,stop] style so we can index diff_idx\n",
        "logic_implement = np.hstack((full[:-1, np.newaxis],(full[1:, np.newaxis] + 1)))"
      ]
    },
    {
      "cell_type": "code",
      "execution_count": 147,
      "metadata": {
        "id": "z22EqPuqWVmZ"
      },
      "outputs": [],
      "source": [
        "def get_topk_mislabel(diff_idx,logic_implement,k):\n",
        "  rightful_segment_of_mislabel_periods = diff_idx[logic_implement]\n",
        "  duration = np.diff(rightful_segment_of_mislabel_periods,axis=1)\n",
        "  top3_indices = np.where(np.argsort(duration,axis=0) >= duration.shape[0] - 3)[0]\n",
        "  return rightful_segment_of_mislabel_periods[top3_indices]\n",
        "  # return top3_indices"
      ]
    },
    {
      "cell_type": "code",
      "execution_count": 148,
      "metadata": {
        "id": "BW3j2tk3XEub"
      },
      "outputs": [],
      "source": [
        "k =3\n",
        "topk_mislab = get_topk_mislabel(diff_idx,logic_implement,k)"
      ]
    },
    {
      "cell_type": "code",
      "execution_count": 149,
      "metadata": {
        "colab": {
          "base_uri": "https://localhost:8080/"
        },
        "id": "7b1HWvu3eFBO",
        "outputId": "6ddc4def-9bf8-45d3-e94d-15f01d2b87c7"
      },
      "outputs": [
        {
          "data": {
            "text/plain": [
              "array([[  343844,   510164],\n",
              "       [20709945, 20725875],\n",
              "       [24181919, 24243705]])"
            ]
          },
          "execution_count": 149,
          "metadata": {},
          "output_type": "execute_result"
        }
      ],
      "source": [
        "topk_mislab"
      ]
    },
    {
      "cell_type": "code",
      "execution_count": 150,
      "metadata": {
        "colab": {
          "base_uri": "https://localhost:8080/"
        },
        "id": "Z5BIHV_7fz3a",
        "outputId": "7a812afe-f4e3-4369-c5ab-95c47fea963e"
      },
      "outputs": [
        {
          "data": {
            "text/plain": [
              "array([[1., 1.],\n",
              "       [1., 1.],\n",
              "       [1., 1.]], dtype=float32)"
            ]
          },
          "execution_count": 150,
          "metadata": {},
          "output_type": "execute_result"
        }
      ],
      "source": [
        "# if 1 means predicted speech else nonspeech\n",
        "# by right should be pred_0_1[343844:510164].mean()\n",
        "#but as long as you understand the entire seg is the same, what we do here is also correct\n",
        "pred_0_1[topk_mislab]"
      ]
    },
    {
      "cell_type": "code",
      "execution_count": 152,
      "metadata": {
        "colab": {
          "base_uri": "https://localhost:8080/"
        },
        "id": "LsItgF-2f970",
        "outputId": "12636e91-4e9b-4898-9055-f6577f9109c4"
      },
      "outputs": [
        {
          "data": {
            "text/plain": [
              "array([[0., 0.],\n",
              "       [0., 0.],\n",
              "       [0., 0.]], dtype=float32)"
            ]
          },
          "execution_count": 152,
          "metadata": {},
          "output_type": "execute_result"
        }
      ],
      "source": [
        "# if 1 means predicted speech else nonspeech\n",
        "grd_0_1[topk_mislab]"
      ]
    },
    {
      "cell_type": "code",
      "execution_count": 146,
      "metadata": {
        "colab": {
          "base_uri": "https://localhost:8080/",
          "height": 76
        },
        "id": "su8MJtHFfAJH",
        "outputId": "c0d6fadf-5133-4b81-d289-6d97930660d2"
      },
      "outputs": [
        {
          "data": {
            "text/html": [
              "\n",
              "                <audio  controls=\"controls\" >\n",
              "                    <source src=\"data:audio/wav;base64,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\" type=\"audio/wav\" />\n",
              "                    Your browser does not support the audio element.\n",
              "                </audio>\n",
              "              "
            ],
            "text/plain": [
              "<IPython.lib.display.Audio object>"
            ]
          },
          "execution_count": 146,
          "metadata": {},
          "output_type": "execute_result"
        }
      ],
      "source": [
        "from pyannote.audio.utils.preview import listen\n",
        "from pyannote.core import Segment\n",
        "mislabel = Segment(21.49 ,   31.885)\n",
        "listen(file, mislabel)"
      ]
    },
    {
      "cell_type": "markdown",
      "metadata": {},
      "source": [
        "Many thanks to the Pyannote library for providing such an awesome tool! 🙌\n",
        "\n",
        "Please check out the Pyannote library on [GitHub](https://github.com/pyannote/pyannote-audio).\n",
        "\n",
        "For more in-depth information on Voice Activity Detection (VAD), you can refer to the reference paper available [arvix](https://arxiv.org/pdf/2104.04045.pdf).\n",
        "\n",
        "Happy coding! 🚀\n",
        "```\n",
        "@inproceedings{Bredin2021,\n",
        "  Title = {{End-to-end speaker segmentation for overlap-aware resegmentation}},\n",
        "  Author = {{Bredin}, Herv{\\'e} and {Laurent}, Antoine},\n",
        "  Booktitle = {Proc. Interspeech 2021},\n",
        "  Year = {2021},\n",
        "}"
      ]
    },
    {
      "cell_type": "markdown",
      "metadata": {},
      "source": []
    }
  ],
  "metadata": {
    "colab": {
      "provenance": []
    },
    "kernelspec": {
      "display_name": "Python 3",
      "name": "python3"
    },
    "language_info": {
      "name": "python"
    },
    "widgets": {
      "application/vnd.jupyter.widget-state+json": {
        "048f4465e8784d5ebf1413e1941726be": {
          "model_module": "@jupyter-widgets/controls",
          "model_module_version": "1.5.0",
          "model_name": "FloatProgressModel",
          "state": {
            "_dom_classes": [],
            "_model_module": "@jupyter-widgets/controls",
            "_model_module_version": "1.5.0",
            "_model_name": "FloatProgressModel",
            "_view_count": null,
            "_view_module": "@jupyter-widgets/controls",
            "_view_module_version": "1.5.0",
            "_view_name": "ProgressView",
            "bar_style": "",
            "description": "",
            "description_tooltip": null,
            "layout": "IPY_MODEL_1d97566bbdfd4f52b2fcdb037f0fc665",
            "max": 34,
            "min": 0,
            "orientation": "horizontal",
            "style": "IPY_MODEL_5988ce0ad3e146c0924eb5c6deb03822",
            "value": 34
          }
        },
        "098deb3a38724c3ca16c9b993ac8ecec": {
          "model_module": "@jupyter-widgets/base",
          "model_module_version": "1.2.0",
          "model_name": "LayoutModel",
          "state": {
            "_model_module": "@jupyter-widgets/base",
            "_model_module_version": "1.2.0",
            "_model_name": "LayoutModel",
            "_view_count": null,
            "_view_module": "@jupyter-widgets/base",
            "_view_module_version": "1.2.0",
            "_view_name": "LayoutView",
            "align_content": null,
            "align_items": null,
            "align_self": null,
            "border": null,
            "bottom": null,
            "display": "inline-flex",
            "flex": null,
            "flex_flow": "row wrap",
            "grid_area": null,
            "grid_auto_columns": null,
            "grid_auto_flow": null,
            "grid_auto_rows": null,
            "grid_column": null,
            "grid_gap": null,
            "grid_row": null,
            "grid_template_areas": null,
            "grid_template_columns": null,
            "grid_template_rows": null,
            "height": null,
            "justify_content": null,
            "justify_items": null,
            "left": null,
            "margin": null,
            "max_height": null,
            "max_width": null,
            "min_height": null,
            "min_width": null,
            "object_fit": null,
            "object_position": null,
            "order": null,
            "overflow": null,
            "overflow_x": null,
            "overflow_y": null,
            "padding": null,
            "right": null,
            "top": null,
            "visibility": null,
            "width": "100%"
          }
        },
        "0ae7260136d24566b664606c0bfd90b1": {
          "model_module": "@jupyter-widgets/controls",
          "model_module_version": "1.5.0",
          "model_name": "HTMLModel",
          "state": {
            "_dom_classes": [],
            "_model_module": "@jupyter-widgets/controls",
            "_model_module_version": "1.5.0",
            "_model_name": "HTMLModel",
            "_view_count": null,
            "_view_module": "@jupyter-widgets/controls",
            "_view_module_version": "1.5.0",
            "_view_name": "HTMLView",
            "description": "",
            "description_tooltip": null,
            "layout": "IPY_MODEL_9d0382ab86214e7697e354691d8b7f2e",
            "placeholder": "​",
            "style": "IPY_MODEL_be2747a5bdf84d82a7d746095289c58c",
            "value": " 34/34 [01:03&lt;00:00,  1.85s/it]"
          }
        },
        "188b9ec82add4325af7ab5182f602e63": {
          "model_module": "@jupyter-widgets/base",
          "model_module_version": "1.2.0",
          "model_name": "LayoutModel",
          "state": {
            "_model_module": "@jupyter-widgets/base",
            "_model_module_version": "1.2.0",
            "_model_name": "LayoutModel",
            "_view_count": null,
            "_view_module": "@jupyter-widgets/base",
            "_view_module_version": "1.2.0",
            "_view_name": "LayoutView",
            "align_content": null,
            "align_items": null,
            "align_self": null,
            "border": null,
            "bottom": null,
            "display": null,
            "flex": null,
            "flex_flow": null,
            "grid_area": null,
            "grid_auto_columns": null,
            "grid_auto_flow": null,
            "grid_auto_rows": null,
            "grid_column": null,
            "grid_gap": null,
            "grid_row": null,
            "grid_template_areas": null,
            "grid_template_columns": null,
            "grid_template_rows": null,
            "height": null,
            "justify_content": null,
            "justify_items": null,
            "left": null,
            "margin": null,
            "max_height": null,
            "max_width": null,
            "min_height": null,
            "min_width": null,
            "object_fit": null,
            "object_position": null,
            "order": null,
            "overflow": null,
            "overflow_x": null,
            "overflow_y": null,
            "padding": null,
            "right": null,
            "top": null,
            "visibility": null,
            "width": null
          }
        },
        "1d97566bbdfd4f52b2fcdb037f0fc665": {
          "model_module": "@jupyter-widgets/base",
          "model_module_version": "1.2.0",
          "model_name": "LayoutModel",
          "state": {
            "_model_module": "@jupyter-widgets/base",
            "_model_module_version": "1.2.0",
            "_model_name": "LayoutModel",
            "_view_count": null,
            "_view_module": "@jupyter-widgets/base",
            "_view_module_version": "1.2.0",
            "_view_name": "LayoutView",
            "align_content": null,
            "align_items": null,
            "align_self": null,
            "border": null,
            "bottom": null,
            "display": null,
            "flex": "2",
            "flex_flow": null,
            "grid_area": null,
            "grid_auto_columns": null,
            "grid_auto_flow": null,
            "grid_auto_rows": null,
            "grid_column": null,
            "grid_gap": null,
            "grid_row": null,
            "grid_template_areas": null,
            "grid_template_columns": null,
            "grid_template_rows": null,
            "height": null,
            "justify_content": null,
            "justify_items": null,
            "left": null,
            "margin": null,
            "max_height": null,
            "max_width": null,
            "min_height": null,
            "min_width": null,
            "object_fit": null,
            "object_position": null,
            "order": null,
            "overflow": null,
            "overflow_x": null,
            "overflow_y": null,
            "padding": null,
            "right": null,
            "top": null,
            "visibility": null,
            "width": null
          }
        },
        "1f264d19d4b64f3bb2896cbb4a109e99": {
          "model_module": "@jupyter-widgets/controls",
          "model_module_version": "1.5.0",
          "model_name": "HTMLModel",
          "state": {
            "_dom_classes": [],
            "_model_module": "@jupyter-widgets/controls",
            "_model_module_version": "1.5.0",
            "_model_name": "HTMLModel",
            "_view_count": null,
            "_view_module": "@jupyter-widgets/controls",
            "_view_module_version": "1.5.0",
            "_view_name": "HTMLView",
            "description": "",
            "description_tooltip": null,
            "layout": "IPY_MODEL_7274341402224dbb9c2c41c9b5bb1c21",
            "placeholder": "​",
            "style": "IPY_MODEL_d617b42171264e7b8b53d4b333e89296",
            "value": "Validation DataLoader 0: 100%"
          }
        },
        "2226b3e790334030866605310140c6aa": {
          "model_module": "@jupyter-widgets/base",
          "model_module_version": "1.2.0",
          "model_name": "LayoutModel",
          "state": {
            "_model_module": "@jupyter-widgets/base",
            "_model_module_version": "1.2.0",
            "_model_name": "LayoutModel",
            "_view_count": null,
            "_view_module": "@jupyter-widgets/base",
            "_view_module_version": "1.2.0",
            "_view_name": "LayoutView",
            "align_content": null,
            "align_items": null,
            "align_self": null,
            "border": null,
            "bottom": null,
            "display": "inline-flex",
            "flex": null,
            "flex_flow": "row wrap",
            "grid_area": null,
            "grid_auto_columns": null,
            "grid_auto_flow": null,
            "grid_auto_rows": null,
            "grid_column": null,
            "grid_gap": null,
            "grid_row": null,
            "grid_template_areas": null,
            "grid_template_columns": null,
            "grid_template_rows": null,
            "height": null,
            "justify_content": null,
            "justify_items": null,
            "left": null,
            "margin": null,
            "max_height": null,
            "max_width": null,
            "min_height": null,
            "min_width": null,
            "object_fit": null,
            "object_position": null,
            "order": null,
            "overflow": null,
            "overflow_x": null,
            "overflow_y": null,
            "padding": null,
            "right": null,
            "top": null,
            "visibility": "hidden",
            "width": "100%"
          }
        },
        "35370135be4f41d9ab100ab50d35e712": {
          "model_module": "@jupyter-widgets/base",
          "model_module_version": "1.2.0",
          "model_name": "LayoutModel",
          "state": {
            "_model_module": "@jupyter-widgets/base",
            "_model_module_version": "1.2.0",
            "_model_name": "LayoutModel",
            "_view_count": null,
            "_view_module": "@jupyter-widgets/base",
            "_view_module_version": "1.2.0",
            "_view_name": "LayoutView",
            "align_content": null,
            "align_items": null,
            "align_self": null,
            "border": null,
            "bottom": null,
            "display": "inline-flex",
            "flex": null,
            "flex_flow": "row wrap",
            "grid_area": null,
            "grid_auto_columns": null,
            "grid_auto_flow": null,
            "grid_auto_rows": null,
            "grid_column": null,
            "grid_gap": null,
            "grid_row": null,
            "grid_template_areas": null,
            "grid_template_columns": null,
            "grid_template_rows": null,
            "height": null,
            "justify_content": null,
            "justify_items": null,
            "left": null,
            "margin": null,
            "max_height": null,
            "max_width": null,
            "min_height": null,
            "min_width": null,
            "object_fit": null,
            "object_position": null,
            "order": null,
            "overflow": null,
            "overflow_x": null,
            "overflow_y": null,
            "padding": null,
            "right": null,
            "top": null,
            "visibility": "hidden",
            "width": "100%"
          }
        },
        "3b8703df9c5d41f7a3a0700a69b31af3": {
          "model_module": "@jupyter-widgets/base",
          "model_module_version": "1.2.0",
          "model_name": "LayoutModel",
          "state": {
            "_model_module": "@jupyter-widgets/base",
            "_model_module_version": "1.2.0",
            "_model_name": "LayoutModel",
            "_view_count": null,
            "_view_module": "@jupyter-widgets/base",
            "_view_module_version": "1.2.0",
            "_view_name": "LayoutView",
            "align_content": null,
            "align_items": null,
            "align_self": null,
            "border": null,
            "bottom": null,
            "display": null,
            "flex": "2",
            "flex_flow": null,
            "grid_area": null,
            "grid_auto_columns": null,
            "grid_auto_flow": null,
            "grid_auto_rows": null,
            "grid_column": null,
            "grid_gap": null,
            "grid_row": null,
            "grid_template_areas": null,
            "grid_template_columns": null,
            "grid_template_rows": null,
            "height": null,
            "justify_content": null,
            "justify_items": null,
            "left": null,
            "margin": null,
            "max_height": null,
            "max_width": null,
            "min_height": null,
            "min_width": null,
            "object_fit": null,
            "object_position": null,
            "order": null,
            "overflow": null,
            "overflow_x": null,
            "overflow_y": null,
            "padding": null,
            "right": null,
            "top": null,
            "visibility": null,
            "width": null
          }
        },
        "40ddc9bf20d24c1db5bc45762c0720c8": {
          "model_module": "@jupyter-widgets/controls",
          "model_module_version": "1.5.0",
          "model_name": "HBoxModel",
          "state": {
            "_dom_classes": [],
            "_model_module": "@jupyter-widgets/controls",
            "_model_module_version": "1.5.0",
            "_model_name": "HBoxModel",
            "_view_count": null,
            "_view_module": "@jupyter-widgets/controls",
            "_view_module_version": "1.5.0",
            "_view_name": "HBoxView",
            "box_style": "",
            "children": [
              "IPY_MODEL_1f264d19d4b64f3bb2896cbb4a109e99",
              "IPY_MODEL_cf78cea0583e42698212271a295cc675",
              "IPY_MODEL_4539131e50fc40fabf3944ede4e95de1"
            ],
            "layout": "IPY_MODEL_ec2a8a72f371432e9b5bf672315d9a91"
          }
        },
        "438c19159a06436ead7681a30844061d": {
          "model_module": "@jupyter-widgets/base",
          "model_module_version": "1.2.0",
          "model_name": "LayoutModel",
          "state": {
            "_model_module": "@jupyter-widgets/base",
            "_model_module_version": "1.2.0",
            "_model_name": "LayoutModel",
            "_view_count": null,
            "_view_module": "@jupyter-widgets/base",
            "_view_module_version": "1.2.0",
            "_view_name": "LayoutView",
            "align_content": null,
            "align_items": null,
            "align_self": null,
            "border": null,
            "bottom": null,
            "display": null,
            "flex": "2",
            "flex_flow": null,
            "grid_area": null,
            "grid_auto_columns": null,
            "grid_auto_flow": null,
            "grid_auto_rows": null,
            "grid_column": null,
            "grid_gap": null,
            "grid_row": null,
            "grid_template_areas": null,
            "grid_template_columns": null,
            "grid_template_rows": null,
            "height": null,
            "justify_content": null,
            "justify_items": null,
            "left": null,
            "margin": null,
            "max_height": null,
            "max_width": null,
            "min_height": null,
            "min_width": null,
            "object_fit": null,
            "object_position": null,
            "order": null,
            "overflow": null,
            "overflow_x": null,
            "overflow_y": null,
            "padding": null,
            "right": null,
            "top": null,
            "visibility": null,
            "width": null
          }
        },
        "439c9c98e7b646e8b1776e287a2d31a9": {
          "model_module": "@jupyter-widgets/controls",
          "model_module_version": "1.5.0",
          "model_name": "HTMLModel",
          "state": {
            "_dom_classes": [],
            "_model_module": "@jupyter-widgets/controls",
            "_model_module_version": "1.5.0",
            "_model_name": "HTMLModel",
            "_view_count": null,
            "_view_module": "@jupyter-widgets/controls",
            "_view_module_version": "1.5.0",
            "_view_name": "HTMLView",
            "description": "",
            "description_tooltip": null,
            "layout": "IPY_MODEL_c75d021b07ce42e296c826be6733d5a8",
            "placeholder": "​",
            "style": "IPY_MODEL_545676305cdd4838bb7b9c9191a80cb1",
            "value": " 34/34 [01:06&lt;00:00,  1.89s/it]"
          }
        },
        "44113b7d3a894b9e8ab084c14b3b4466": {
          "model_module": "@jupyter-widgets/controls",
          "model_module_version": "1.5.0",
          "model_name": "HBoxModel",
          "state": {
            "_dom_classes": [],
            "_model_module": "@jupyter-widgets/controls",
            "_model_module_version": "1.5.0",
            "_model_name": "HBoxModel",
            "_view_count": null,
            "_view_module": "@jupyter-widgets/controls",
            "_view_module_version": "1.5.0",
            "_view_name": "HBoxView",
            "box_style": "",
            "children": [
              "IPY_MODEL_9cc3ae38a7094a2581486db241548149",
              "IPY_MODEL_4cf0d0b58d9448438d3248e2dad7f18f",
              "IPY_MODEL_d026d63d517c4919a12e3028c9463f36"
            ],
            "layout": "IPY_MODEL_35370135be4f41d9ab100ab50d35e712"
          }
        },
        "4539131e50fc40fabf3944ede4e95de1": {
          "model_module": "@jupyter-widgets/controls",
          "model_module_version": "1.5.0",
          "model_name": "HTMLModel",
          "state": {
            "_dom_classes": [],
            "_model_module": "@jupyter-widgets/controls",
            "_model_module_version": "1.5.0",
            "_model_name": "HTMLModel",
            "_view_count": null,
            "_view_module": "@jupyter-widgets/controls",
            "_view_module_version": "1.5.0",
            "_view_name": "HTMLView",
            "description": "",
            "description_tooltip": null,
            "layout": "IPY_MODEL_8937324d94ba462c8e9e906b1fd0a0f7",
            "placeholder": "​",
            "style": "IPY_MODEL_9e4bcb566f5142eaa896725a1ae8567d",
            "value": " 34/34 [01:06&lt;00:00,  1.94s/it]"
          }
        },
        "45f0d09141d24c54be4949a2ccec28c5": {
          "model_module": "@jupyter-widgets/controls",
          "model_module_version": "1.5.0",
          "model_name": "ProgressStyleModel",
          "state": {
            "_model_module": "@jupyter-widgets/controls",
            "_model_module_version": "1.5.0",
            "_model_name": "ProgressStyleModel",
            "_view_count": null,
            "_view_module": "@jupyter-widgets/base",
            "_view_module_version": "1.2.0",
            "_view_name": "StyleView",
            "bar_color": null,
            "description_width": ""
          }
        },
        "4aac5d721da5474293763b03e0effd0f": {
          "model_module": "@jupyter-widgets/controls",
          "model_module_version": "1.5.0",
          "model_name": "DescriptionStyleModel",
          "state": {
            "_model_module": "@jupyter-widgets/controls",
            "_model_module_version": "1.5.0",
            "_model_name": "DescriptionStyleModel",
            "_view_count": null,
            "_view_module": "@jupyter-widgets/base",
            "_view_module_version": "1.2.0",
            "_view_name": "StyleView",
            "description_width": ""
          }
        },
        "4cf0d0b58d9448438d3248e2dad7f18f": {
          "model_module": "@jupyter-widgets/controls",
          "model_module_version": "1.5.0",
          "model_name": "FloatProgressModel",
          "state": {
            "_dom_classes": [],
            "_model_module": "@jupyter-widgets/controls",
            "_model_module_version": "1.5.0",
            "_model_name": "FloatProgressModel",
            "_view_count": null,
            "_view_module": "@jupyter-widgets/controls",
            "_view_module_version": "1.5.0",
            "_view_name": "ProgressView",
            "bar_style": "",
            "description": "",
            "description_tooltip": null,
            "layout": "IPY_MODEL_643bac68ce0e438b858facd19ba92a62",
            "max": 34,
            "min": 0,
            "orientation": "horizontal",
            "style": "IPY_MODEL_6c7bafae198c459192d1353953ea0cb7",
            "value": 34
          }
        },
        "545676305cdd4838bb7b9c9191a80cb1": {
          "model_module": "@jupyter-widgets/controls",
          "model_module_version": "1.5.0",
          "model_name": "DescriptionStyleModel",
          "state": {
            "_model_module": "@jupyter-widgets/controls",
            "_model_module_version": "1.5.0",
            "_model_name": "DescriptionStyleModel",
            "_view_count": null,
            "_view_module": "@jupyter-widgets/base",
            "_view_module_version": "1.2.0",
            "_view_name": "StyleView",
            "description_width": ""
          }
        },
        "5988ce0ad3e146c0924eb5c6deb03822": {
          "model_module": "@jupyter-widgets/controls",
          "model_module_version": "1.5.0",
          "model_name": "ProgressStyleModel",
          "state": {
            "_model_module": "@jupyter-widgets/controls",
            "_model_module_version": "1.5.0",
            "_model_name": "ProgressStyleModel",
            "_view_count": null,
            "_view_module": "@jupyter-widgets/base",
            "_view_module_version": "1.2.0",
            "_view_name": "StyleView",
            "bar_color": null,
            "description_width": ""
          }
        },
        "5f5d0d29ad7d470193486aea13449ada": {
          "model_module": "@jupyter-widgets/controls",
          "model_module_version": "1.5.0",
          "model_name": "HTMLModel",
          "state": {
            "_dom_classes": [],
            "_model_module": "@jupyter-widgets/controls",
            "_model_module_version": "1.5.0",
            "_model_name": "HTMLModel",
            "_view_count": null,
            "_view_module": "@jupyter-widgets/controls",
            "_view_module_version": "1.5.0",
            "_view_name": "HTMLView",
            "description": "",
            "description_tooltip": null,
            "layout": "IPY_MODEL_fc836cc09f4b4dae9416f8622be35510",
            "placeholder": "​",
            "style": "IPY_MODEL_869cff477a90475980a80ecef4fb337b",
            "value": "Sanity Checking DataLoader 0: 100%"
          }
        },
        "5f7fc6633a5747e7addca76df781bad4": {
          "model_module": "@jupyter-widgets/base",
          "model_module_version": "1.2.0",
          "model_name": "LayoutModel",
          "state": {
            "_model_module": "@jupyter-widgets/base",
            "_model_module_version": "1.2.0",
            "_model_name": "LayoutModel",
            "_view_count": null,
            "_view_module": "@jupyter-widgets/base",
            "_view_module_version": "1.2.0",
            "_view_name": "LayoutView",
            "align_content": null,
            "align_items": null,
            "align_self": null,
            "border": null,
            "bottom": null,
            "display": null,
            "flex": null,
            "flex_flow": null,
            "grid_area": null,
            "grid_auto_columns": null,
            "grid_auto_flow": null,
            "grid_auto_rows": null,
            "grid_column": null,
            "grid_gap": null,
            "grid_row": null,
            "grid_template_areas": null,
            "grid_template_columns": null,
            "grid_template_rows": null,
            "height": null,
            "justify_content": null,
            "justify_items": null,
            "left": null,
            "margin": null,
            "max_height": null,
            "max_width": null,
            "min_height": null,
            "min_width": null,
            "object_fit": null,
            "object_position": null,
            "order": null,
            "overflow": null,
            "overflow_x": null,
            "overflow_y": null,
            "padding": null,
            "right": null,
            "top": null,
            "visibility": null,
            "width": null
          }
        },
        "6140913e32d1431b8ff87490a4756a56": {
          "model_module": "@jupyter-widgets/controls",
          "model_module_version": "1.5.0",
          "model_name": "DescriptionStyleModel",
          "state": {
            "_model_module": "@jupyter-widgets/controls",
            "_model_module_version": "1.5.0",
            "_model_name": "DescriptionStyleModel",
            "_view_count": null,
            "_view_module": "@jupyter-widgets/base",
            "_view_module_version": "1.2.0",
            "_view_name": "StyleView",
            "description_width": ""
          }
        },
        "643bac68ce0e438b858facd19ba92a62": {
          "model_module": "@jupyter-widgets/base",
          "model_module_version": "1.2.0",
          "model_name": "LayoutModel",
          "state": {
            "_model_module": "@jupyter-widgets/base",
            "_model_module_version": "1.2.0",
            "_model_name": "LayoutModel",
            "_view_count": null,
            "_view_module": "@jupyter-widgets/base",
            "_view_module_version": "1.2.0",
            "_view_name": "LayoutView",
            "align_content": null,
            "align_items": null,
            "align_self": null,
            "border": null,
            "bottom": null,
            "display": null,
            "flex": "2",
            "flex_flow": null,
            "grid_area": null,
            "grid_auto_columns": null,
            "grid_auto_flow": null,
            "grid_auto_rows": null,
            "grid_column": null,
            "grid_gap": null,
            "grid_row": null,
            "grid_template_areas": null,
            "grid_template_columns": null,
            "grid_template_rows": null,
            "height": null,
            "justify_content": null,
            "justify_items": null,
            "left": null,
            "margin": null,
            "max_height": null,
            "max_width": null,
            "min_height": null,
            "min_width": null,
            "object_fit": null,
            "object_position": null,
            "order": null,
            "overflow": null,
            "overflow_x": null,
            "overflow_y": null,
            "padding": null,
            "right": null,
            "top": null,
            "visibility": null,
            "width": null
          }
        },
        "6c7bafae198c459192d1353953ea0cb7": {
          "model_module": "@jupyter-widgets/controls",
          "model_module_version": "1.5.0",
          "model_name": "ProgressStyleModel",
          "state": {
            "_model_module": "@jupyter-widgets/controls",
            "_model_module_version": "1.5.0",
            "_model_name": "ProgressStyleModel",
            "_view_count": null,
            "_view_module": "@jupyter-widgets/base",
            "_view_module_version": "1.2.0",
            "_view_name": "StyleView",
            "bar_color": null,
            "description_width": ""
          }
        },
        "7274341402224dbb9c2c41c9b5bb1c21": {
          "model_module": "@jupyter-widgets/base",
          "model_module_version": "1.2.0",
          "model_name": "LayoutModel",
          "state": {
            "_model_module": "@jupyter-widgets/base",
            "_model_module_version": "1.2.0",
            "_model_name": "LayoutModel",
            "_view_count": null,
            "_view_module": "@jupyter-widgets/base",
            "_view_module_version": "1.2.0",
            "_view_name": "LayoutView",
            "align_content": null,
            "align_items": null,
            "align_self": null,
            "border": null,
            "bottom": null,
            "display": null,
            "flex": null,
            "flex_flow": null,
            "grid_area": null,
            "grid_auto_columns": null,
            "grid_auto_flow": null,
            "grid_auto_rows": null,
            "grid_column": null,
            "grid_gap": null,
            "grid_row": null,
            "grid_template_areas": null,
            "grid_template_columns": null,
            "grid_template_rows": null,
            "height": null,
            "justify_content": null,
            "justify_items": null,
            "left": null,
            "margin": null,
            "max_height": null,
            "max_width": null,
            "min_height": null,
            "min_width": null,
            "object_fit": null,
            "object_position": null,
            "order": null,
            "overflow": null,
            "overflow_x": null,
            "overflow_y": null,
            "padding": null,
            "right": null,
            "top": null,
            "visibility": null,
            "width": null
          }
        },
        "7988ccc7db144865946895d9fa48995a": {
          "model_module": "@jupyter-widgets/controls",
          "model_module_version": "1.5.0",
          "model_name": "HBoxModel",
          "state": {
            "_dom_classes": [],
            "_model_module": "@jupyter-widgets/controls",
            "_model_module_version": "1.5.0",
            "_model_name": "HBoxModel",
            "_view_count": null,
            "_view_module": "@jupyter-widgets/controls",
            "_view_module_version": "1.5.0",
            "_view_name": "HBoxView",
            "box_style": "",
            "children": [
              "IPY_MODEL_5f5d0d29ad7d470193486aea13449ada",
              "IPY_MODEL_9d0f04b1d34a4a9781009c82161bc726",
              "IPY_MODEL_90ae0d6de8304662b556cf21c864b153"
            ],
            "layout": "IPY_MODEL_2226b3e790334030866605310140c6aa"
          }
        },
        "827e80c90b9148708d722aa1719eb21a": {
          "model_module": "@jupyter-widgets/controls",
          "model_module_version": "1.5.0",
          "model_name": "FloatProgressModel",
          "state": {
            "_dom_classes": [],
            "_model_module": "@jupyter-widgets/controls",
            "_model_module_version": "1.5.0",
            "_model_name": "FloatProgressModel",
            "_view_count": null,
            "_view_module": "@jupyter-widgets/controls",
            "_view_module_version": "1.5.0",
            "_view_name": "ProgressView",
            "bar_style": "",
            "description": "",
            "description_tooltip": null,
            "layout": "IPY_MODEL_438c19159a06436ead7681a30844061d",
            "max": 34,
            "min": 0,
            "orientation": "horizontal",
            "style": "IPY_MODEL_c817cc5bc13e4ce99a6c8db7d4c3979c",
            "value": 34
          }
        },
        "869cff477a90475980a80ecef4fb337b": {
          "model_module": "@jupyter-widgets/controls",
          "model_module_version": "1.5.0",
          "model_name": "DescriptionStyleModel",
          "state": {
            "_model_module": "@jupyter-widgets/controls",
            "_model_module_version": "1.5.0",
            "_model_name": "DescriptionStyleModel",
            "_view_count": null,
            "_view_module": "@jupyter-widgets/base",
            "_view_module_version": "1.2.0",
            "_view_name": "StyleView",
            "description_width": ""
          }
        },
        "8801e2f7f51e4b25a7d2e97897d7fbba": {
          "model_module": "@jupyter-widgets/base",
          "model_module_version": "1.2.0",
          "model_name": "LayoutModel",
          "state": {
            "_model_module": "@jupyter-widgets/base",
            "_model_module_version": "1.2.0",
            "_model_name": "LayoutModel",
            "_view_count": null,
            "_view_module": "@jupyter-widgets/base",
            "_view_module_version": "1.2.0",
            "_view_name": "LayoutView",
            "align_content": null,
            "align_items": null,
            "align_self": null,
            "border": null,
            "bottom": null,
            "display": "inline-flex",
            "flex": null,
            "flex_flow": "row wrap",
            "grid_area": null,
            "grid_auto_columns": null,
            "grid_auto_flow": null,
            "grid_auto_rows": null,
            "grid_column": null,
            "grid_gap": null,
            "grid_row": null,
            "grid_template_areas": null,
            "grid_template_columns": null,
            "grid_template_rows": null,
            "height": null,
            "justify_content": null,
            "justify_items": null,
            "left": null,
            "margin": null,
            "max_height": null,
            "max_width": null,
            "min_height": null,
            "min_width": null,
            "object_fit": null,
            "object_position": null,
            "order": null,
            "overflow": null,
            "overflow_x": null,
            "overflow_y": null,
            "padding": null,
            "right": null,
            "top": null,
            "visibility": "hidden",
            "width": "100%"
          }
        },
        "8937324d94ba462c8e9e906b1fd0a0f7": {
          "model_module": "@jupyter-widgets/base",
          "model_module_version": "1.2.0",
          "model_name": "LayoutModel",
          "state": {
            "_model_module": "@jupyter-widgets/base",
            "_model_module_version": "1.2.0",
            "_model_name": "LayoutModel",
            "_view_count": null,
            "_view_module": "@jupyter-widgets/base",
            "_view_module_version": "1.2.0",
            "_view_name": "LayoutView",
            "align_content": null,
            "align_items": null,
            "align_self": null,
            "border": null,
            "bottom": null,
            "display": null,
            "flex": null,
            "flex_flow": null,
            "grid_area": null,
            "grid_auto_columns": null,
            "grid_auto_flow": null,
            "grid_auto_rows": null,
            "grid_column": null,
            "grid_gap": null,
            "grid_row": null,
            "grid_template_areas": null,
            "grid_template_columns": null,
            "grid_template_rows": null,
            "height": null,
            "justify_content": null,
            "justify_items": null,
            "left": null,
            "margin": null,
            "max_height": null,
            "max_width": null,
            "min_height": null,
            "min_width": null,
            "object_fit": null,
            "object_position": null,
            "order": null,
            "overflow": null,
            "overflow_x": null,
            "overflow_y": null,
            "padding": null,
            "right": null,
            "top": null,
            "visibility": null,
            "width": null
          }
        },
        "8cfbc807e81a4607a9a19ca1e1815614": {
          "model_module": "@jupyter-widgets/controls",
          "model_module_version": "1.5.0",
          "model_name": "HBoxModel",
          "state": {
            "_dom_classes": [],
            "_model_module": "@jupyter-widgets/controls",
            "_model_module_version": "1.5.0",
            "_model_name": "HBoxModel",
            "_view_count": null,
            "_view_module": "@jupyter-widgets/controls",
            "_view_module_version": "1.5.0",
            "_view_name": "HBoxView",
            "box_style": "",
            "children": [
              "IPY_MODEL_95da4f28de414bc78a65f5741ff72c33",
              "IPY_MODEL_f0b729d6fc184c2d95da9f7523afdafe",
              "IPY_MODEL_b057696eec1c425f99cda47eedbec5b5"
            ],
            "layout": "IPY_MODEL_098deb3a38724c3ca16c9b993ac8ecec"
          }
        },
        "90ae0d6de8304662b556cf21c864b153": {
          "model_module": "@jupyter-widgets/controls",
          "model_module_version": "1.5.0",
          "model_name": "HTMLModel",
          "state": {
            "_dom_classes": [],
            "_model_module": "@jupyter-widgets/controls",
            "_model_module_version": "1.5.0",
            "_model_name": "HTMLModel",
            "_view_count": null,
            "_view_module": "@jupyter-widgets/controls",
            "_view_module_version": "1.5.0",
            "_view_name": "HTMLView",
            "description": "",
            "description_tooltip": null,
            "layout": "IPY_MODEL_188b9ec82add4325af7ab5182f602e63",
            "placeholder": "​",
            "style": "IPY_MODEL_4aac5d721da5474293763b03e0effd0f",
            "value": " 2/2 [00:02&lt;00:00,  1.23s/it]"
          }
        },
        "9269f1fb2e7a40fbac9816357124fabd": {
          "model_module": "@jupyter-widgets/base",
          "model_module_version": "1.2.0",
          "model_name": "LayoutModel",
          "state": {
            "_model_module": "@jupyter-widgets/base",
            "_model_module_version": "1.2.0",
            "_model_name": "LayoutModel",
            "_view_count": null,
            "_view_module": "@jupyter-widgets/base",
            "_view_module_version": "1.2.0",
            "_view_name": "LayoutView",
            "align_content": null,
            "align_items": null,
            "align_self": null,
            "border": null,
            "bottom": null,
            "display": null,
            "flex": null,
            "flex_flow": null,
            "grid_area": null,
            "grid_auto_columns": null,
            "grid_auto_flow": null,
            "grid_auto_rows": null,
            "grid_column": null,
            "grid_gap": null,
            "grid_row": null,
            "grid_template_areas": null,
            "grid_template_columns": null,
            "grid_template_rows": null,
            "height": null,
            "justify_content": null,
            "justify_items": null,
            "left": null,
            "margin": null,
            "max_height": null,
            "max_width": null,
            "min_height": null,
            "min_width": null,
            "object_fit": null,
            "object_position": null,
            "order": null,
            "overflow": null,
            "overflow_x": null,
            "overflow_y": null,
            "padding": null,
            "right": null,
            "top": null,
            "visibility": null,
            "width": null
          }
        },
        "95da4f28de414bc78a65f5741ff72c33": {
          "model_module": "@jupyter-widgets/controls",
          "model_module_version": "1.5.0",
          "model_name": "HTMLModel",
          "state": {
            "_dom_classes": [],
            "_model_module": "@jupyter-widgets/controls",
            "_model_module_version": "1.5.0",
            "_model_name": "HTMLModel",
            "_view_count": null,
            "_view_module": "@jupyter-widgets/controls",
            "_view_module_version": "1.5.0",
            "_view_name": "HTMLView",
            "description": "",
            "description_tooltip": null,
            "layout": "IPY_MODEL_5f7fc6633a5747e7addca76df781bad4",
            "placeholder": "​",
            "style": "IPY_MODEL_caca7ebff5c245d286827881c2c34a93",
            "value": "Epoch 3: 100%"
          }
        },
        "96e598bd598b4b9e972f4fc7256ac6d7": {
          "model_module": "@jupyter-widgets/base",
          "model_module_version": "1.2.0",
          "model_name": "LayoutModel",
          "state": {
            "_model_module": "@jupyter-widgets/base",
            "_model_module_version": "1.2.0",
            "_model_name": "LayoutModel",
            "_view_count": null,
            "_view_module": "@jupyter-widgets/base",
            "_view_module_version": "1.2.0",
            "_view_name": "LayoutView",
            "align_content": null,
            "align_items": null,
            "align_self": null,
            "border": null,
            "bottom": null,
            "display": null,
            "flex": "2",
            "flex_flow": null,
            "grid_area": null,
            "grid_auto_columns": null,
            "grid_auto_flow": null,
            "grid_auto_rows": null,
            "grid_column": null,
            "grid_gap": null,
            "grid_row": null,
            "grid_template_areas": null,
            "grid_template_columns": null,
            "grid_template_rows": null,
            "height": null,
            "justify_content": null,
            "justify_items": null,
            "left": null,
            "margin": null,
            "max_height": null,
            "max_width": null,
            "min_height": null,
            "min_width": null,
            "object_fit": null,
            "object_position": null,
            "order": null,
            "overflow": null,
            "overflow_x": null,
            "overflow_y": null,
            "padding": null,
            "right": null,
            "top": null,
            "visibility": null,
            "width": null
          }
        },
        "9cc3ae38a7094a2581486db241548149": {
          "model_module": "@jupyter-widgets/controls",
          "model_module_version": "1.5.0",
          "model_name": "HTMLModel",
          "state": {
            "_dom_classes": [],
            "_model_module": "@jupyter-widgets/controls",
            "_model_module_version": "1.5.0",
            "_model_name": "HTMLModel",
            "_view_count": null,
            "_view_module": "@jupyter-widgets/controls",
            "_view_module_version": "1.5.0",
            "_view_name": "HTMLView",
            "description": "",
            "description_tooltip": null,
            "layout": "IPY_MODEL_e05bc84fd7e74589bfed96848fafe9aa",
            "placeholder": "​",
            "style": "IPY_MODEL_6140913e32d1431b8ff87490a4756a56",
            "value": "Validation DataLoader 0: 100%"
          }
        },
        "9d0382ab86214e7697e354691d8b7f2e": {
          "model_module": "@jupyter-widgets/base",
          "model_module_version": "1.2.0",
          "model_name": "LayoutModel",
          "state": {
            "_model_module": "@jupyter-widgets/base",
            "_model_module_version": "1.2.0",
            "_model_name": "LayoutModel",
            "_view_count": null,
            "_view_module": "@jupyter-widgets/base",
            "_view_module_version": "1.2.0",
            "_view_name": "LayoutView",
            "align_content": null,
            "align_items": null,
            "align_self": null,
            "border": null,
            "bottom": null,
            "display": null,
            "flex": null,
            "flex_flow": null,
            "grid_area": null,
            "grid_auto_columns": null,
            "grid_auto_flow": null,
            "grid_auto_rows": null,
            "grid_column": null,
            "grid_gap": null,
            "grid_row": null,
            "grid_template_areas": null,
            "grid_template_columns": null,
            "grid_template_rows": null,
            "height": null,
            "justify_content": null,
            "justify_items": null,
            "left": null,
            "margin": null,
            "max_height": null,
            "max_width": null,
            "min_height": null,
            "min_width": null,
            "object_fit": null,
            "object_position": null,
            "order": null,
            "overflow": null,
            "overflow_x": null,
            "overflow_y": null,
            "padding": null,
            "right": null,
            "top": null,
            "visibility": null,
            "width": null
          }
        },
        "9d0f04b1d34a4a9781009c82161bc726": {
          "model_module": "@jupyter-widgets/controls",
          "model_module_version": "1.5.0",
          "model_name": "FloatProgressModel",
          "state": {
            "_dom_classes": [],
            "_model_module": "@jupyter-widgets/controls",
            "_model_module_version": "1.5.0",
            "_model_name": "FloatProgressModel",
            "_view_count": null,
            "_view_module": "@jupyter-widgets/controls",
            "_view_module_version": "1.5.0",
            "_view_name": "ProgressView",
            "bar_style": "",
            "description": "",
            "description_tooltip": null,
            "layout": "IPY_MODEL_f116d91e14f440c8827b508694ee1d0b",
            "max": 2,
            "min": 0,
            "orientation": "horizontal",
            "style": "IPY_MODEL_be641de8e2744e8798bffd4b3886ab9f",
            "value": 2
          }
        },
        "9e4bcb566f5142eaa896725a1ae8567d": {
          "model_module": "@jupyter-widgets/controls",
          "model_module_version": "1.5.0",
          "model_name": "DescriptionStyleModel",
          "state": {
            "_model_module": "@jupyter-widgets/controls",
            "_model_module_version": "1.5.0",
            "_model_name": "DescriptionStyleModel",
            "_view_count": null,
            "_view_module": "@jupyter-widgets/base",
            "_view_module_version": "1.2.0",
            "_view_name": "StyleView",
            "description_width": ""
          }
        },
        "9f37a8cf3b374441baed13521c7f2cfd": {
          "model_module": "@jupyter-widgets/controls",
          "model_module_version": "1.5.0",
          "model_name": "HTMLModel",
          "state": {
            "_dom_classes": [],
            "_model_module": "@jupyter-widgets/controls",
            "_model_module_version": "1.5.0",
            "_model_name": "HTMLModel",
            "_view_count": null,
            "_view_module": "@jupyter-widgets/controls",
            "_view_module_version": "1.5.0",
            "_view_name": "HTMLView",
            "description": "",
            "description_tooltip": null,
            "layout": "IPY_MODEL_c2b2d3a4908f4e17b4794753ba154af4",
            "placeholder": "​",
            "style": "IPY_MODEL_b87983e2eace4ce38a492ee37436715f",
            "value": "Validation DataLoader 0: 100%"
          }
        },
        "aa4ff36dd9c048048467c14d1c42dac9": {
          "model_module": "@jupyter-widgets/base",
          "model_module_version": "1.2.0",
          "model_name": "LayoutModel",
          "state": {
            "_model_module": "@jupyter-widgets/base",
            "_model_module_version": "1.2.0",
            "_model_name": "LayoutModel",
            "_view_count": null,
            "_view_module": "@jupyter-widgets/base",
            "_view_module_version": "1.2.0",
            "_view_name": "LayoutView",
            "align_content": null,
            "align_items": null,
            "align_self": null,
            "border": null,
            "bottom": null,
            "display": "inline-flex",
            "flex": null,
            "flex_flow": "row wrap",
            "grid_area": null,
            "grid_auto_columns": null,
            "grid_auto_flow": null,
            "grid_auto_rows": null,
            "grid_column": null,
            "grid_gap": null,
            "grid_row": null,
            "grid_template_areas": null,
            "grid_template_columns": null,
            "grid_template_rows": null,
            "height": null,
            "justify_content": null,
            "justify_items": null,
            "left": null,
            "margin": null,
            "max_height": null,
            "max_width": null,
            "min_height": null,
            "min_width": null,
            "object_fit": null,
            "object_position": null,
            "order": null,
            "overflow": null,
            "overflow_x": null,
            "overflow_y": null,
            "padding": null,
            "right": null,
            "top": null,
            "visibility": "hidden",
            "width": "100%"
          }
        },
        "b057696eec1c425f99cda47eedbec5b5": {
          "model_module": "@jupyter-widgets/controls",
          "model_module_version": "1.5.0",
          "model_name": "HTMLModel",
          "state": {
            "_dom_classes": [],
            "_model_module": "@jupyter-widgets/controls",
            "_model_module_version": "1.5.0",
            "_model_name": "HTMLModel",
            "_view_count": null,
            "_view_module": "@jupyter-widgets/controls",
            "_view_module_version": "1.5.0",
            "_view_name": "HTMLView",
            "description": "",
            "description_tooltip": null,
            "layout": "IPY_MODEL_df2d2e0d73e344048c72ae68f13d36a9",
            "placeholder": "​",
            "style": "IPY_MODEL_f7531d02633f4841a9483af8ac76757f",
            "value": " 317/317 [13:28&lt;00:00,  2.55s/it, loss=0.175, v_num=0, VoiceActivityDetection-AMISpeakerDiarizationonly_words-AUROC=0.970, VoiceActivityDetection-AMISpeakerDiarizationonly_words-TrainLoss=0.173]"
          }
        },
        "b40cfb52def44aa8ada172289e1dc2c6": {
          "model_module": "@jupyter-widgets/controls",
          "model_module_version": "1.5.0",
          "model_name": "HBoxModel",
          "state": {
            "_dom_classes": [],
            "_model_module": "@jupyter-widgets/controls",
            "_model_module_version": "1.5.0",
            "_model_name": "HBoxModel",
            "_view_count": null,
            "_view_module": "@jupyter-widgets/controls",
            "_view_module_version": "1.5.0",
            "_view_name": "HBoxView",
            "box_style": "",
            "children": [
              "IPY_MODEL_d56761af220b414fb45bf4261ebd6863",
              "IPY_MODEL_048f4465e8784d5ebf1413e1941726be",
              "IPY_MODEL_439c9c98e7b646e8b1776e287a2d31a9"
            ],
            "layout": "IPY_MODEL_8801e2f7f51e4b25a7d2e97897d7fbba"
          }
        },
        "b87983e2eace4ce38a492ee37436715f": {
          "model_module": "@jupyter-widgets/controls",
          "model_module_version": "1.5.0",
          "model_name": "DescriptionStyleModel",
          "state": {
            "_model_module": "@jupyter-widgets/controls",
            "_model_module_version": "1.5.0",
            "_model_name": "DescriptionStyleModel",
            "_view_count": null,
            "_view_module": "@jupyter-widgets/base",
            "_view_module_version": "1.2.0",
            "_view_name": "StyleView",
            "description_width": ""
          }
        },
        "be2747a5bdf84d82a7d746095289c58c": {
          "model_module": "@jupyter-widgets/controls",
          "model_module_version": "1.5.0",
          "model_name": "DescriptionStyleModel",
          "state": {
            "_model_module": "@jupyter-widgets/controls",
            "_model_module_version": "1.5.0",
            "_model_name": "DescriptionStyleModel",
            "_view_count": null,
            "_view_module": "@jupyter-widgets/base",
            "_view_module_version": "1.2.0",
            "_view_name": "StyleView",
            "description_width": ""
          }
        },
        "be641de8e2744e8798bffd4b3886ab9f": {
          "model_module": "@jupyter-widgets/controls",
          "model_module_version": "1.5.0",
          "model_name": "ProgressStyleModel",
          "state": {
            "_model_module": "@jupyter-widgets/controls",
            "_model_module_version": "1.5.0",
            "_model_name": "ProgressStyleModel",
            "_view_count": null,
            "_view_module": "@jupyter-widgets/base",
            "_view_module_version": "1.2.0",
            "_view_name": "StyleView",
            "bar_color": null,
            "description_width": ""
          }
        },
        "c2b2d3a4908f4e17b4794753ba154af4": {
          "model_module": "@jupyter-widgets/base",
          "model_module_version": "1.2.0",
          "model_name": "LayoutModel",
          "state": {
            "_model_module": "@jupyter-widgets/base",
            "_model_module_version": "1.2.0",
            "_model_name": "LayoutModel",
            "_view_count": null,
            "_view_module": "@jupyter-widgets/base",
            "_view_module_version": "1.2.0",
            "_view_name": "LayoutView",
            "align_content": null,
            "align_items": null,
            "align_self": null,
            "border": null,
            "bottom": null,
            "display": null,
            "flex": null,
            "flex_flow": null,
            "grid_area": null,
            "grid_auto_columns": null,
            "grid_auto_flow": null,
            "grid_auto_rows": null,
            "grid_column": null,
            "grid_gap": null,
            "grid_row": null,
            "grid_template_areas": null,
            "grid_template_columns": null,
            "grid_template_rows": null,
            "height": null,
            "justify_content": null,
            "justify_items": null,
            "left": null,
            "margin": null,
            "max_height": null,
            "max_width": null,
            "min_height": null,
            "min_width": null,
            "object_fit": null,
            "object_position": null,
            "order": null,
            "overflow": null,
            "overflow_x": null,
            "overflow_y": null,
            "padding": null,
            "right": null,
            "top": null,
            "visibility": null,
            "width": null
          }
        },
        "c75d021b07ce42e296c826be6733d5a8": {
          "model_module": "@jupyter-widgets/base",
          "model_module_version": "1.2.0",
          "model_name": "LayoutModel",
          "state": {
            "_model_module": "@jupyter-widgets/base",
            "_model_module_version": "1.2.0",
            "_model_name": "LayoutModel",
            "_view_count": null,
            "_view_module": "@jupyter-widgets/base",
            "_view_module_version": "1.2.0",
            "_view_name": "LayoutView",
            "align_content": null,
            "align_items": null,
            "align_self": null,
            "border": null,
            "bottom": null,
            "display": null,
            "flex": null,
            "flex_flow": null,
            "grid_area": null,
            "grid_auto_columns": null,
            "grid_auto_flow": null,
            "grid_auto_rows": null,
            "grid_column": null,
            "grid_gap": null,
            "grid_row": null,
            "grid_template_areas": null,
            "grid_template_columns": null,
            "grid_template_rows": null,
            "height": null,
            "justify_content": null,
            "justify_items": null,
            "left": null,
            "margin": null,
            "max_height": null,
            "max_width": null,
            "min_height": null,
            "min_width": null,
            "object_fit": null,
            "object_position": null,
            "order": null,
            "overflow": null,
            "overflow_x": null,
            "overflow_y": null,
            "padding": null,
            "right": null,
            "top": null,
            "visibility": null,
            "width": null
          }
        },
        "c817cc5bc13e4ce99a6c8db7d4c3979c": {
          "model_module": "@jupyter-widgets/controls",
          "model_module_version": "1.5.0",
          "model_name": "ProgressStyleModel",
          "state": {
            "_model_module": "@jupyter-widgets/controls",
            "_model_module_version": "1.5.0",
            "_model_name": "ProgressStyleModel",
            "_view_count": null,
            "_view_module": "@jupyter-widgets/base",
            "_view_module_version": "1.2.0",
            "_view_name": "StyleView",
            "bar_color": null,
            "description_width": ""
          }
        },
        "caca7ebff5c245d286827881c2c34a93": {
          "model_module": "@jupyter-widgets/controls",
          "model_module_version": "1.5.0",
          "model_name": "DescriptionStyleModel",
          "state": {
            "_model_module": "@jupyter-widgets/controls",
            "_model_module_version": "1.5.0",
            "_model_name": "DescriptionStyleModel",
            "_view_count": null,
            "_view_module": "@jupyter-widgets/base",
            "_view_module_version": "1.2.0",
            "_view_name": "StyleView",
            "description_width": ""
          }
        },
        "cf78cea0583e42698212271a295cc675": {
          "model_module": "@jupyter-widgets/controls",
          "model_module_version": "1.5.0",
          "model_name": "FloatProgressModel",
          "state": {
            "_dom_classes": [],
            "_model_module": "@jupyter-widgets/controls",
            "_model_module_version": "1.5.0",
            "_model_name": "FloatProgressModel",
            "_view_count": null,
            "_view_module": "@jupyter-widgets/controls",
            "_view_module_version": "1.5.0",
            "_view_name": "ProgressView",
            "bar_style": "",
            "description": "",
            "description_tooltip": null,
            "layout": "IPY_MODEL_96e598bd598b4b9e972f4fc7256ac6d7",
            "max": 34,
            "min": 0,
            "orientation": "horizontal",
            "style": "IPY_MODEL_45f0d09141d24c54be4949a2ccec28c5",
            "value": 34
          }
        },
        "d026d63d517c4919a12e3028c9463f36": {
          "model_module": "@jupyter-widgets/controls",
          "model_module_version": "1.5.0",
          "model_name": "HTMLModel",
          "state": {
            "_dom_classes": [],
            "_model_module": "@jupyter-widgets/controls",
            "_model_module_version": "1.5.0",
            "_model_name": "HTMLModel",
            "_view_count": null,
            "_view_module": "@jupyter-widgets/controls",
            "_view_module_version": "1.5.0",
            "_view_name": "HTMLView",
            "description": "",
            "description_tooltip": null,
            "layout": "IPY_MODEL_d9359163328247d289998de0e2a70a54",
            "placeholder": "​",
            "style": "IPY_MODEL_fa6eb374d665461180360a7744c3da9a",
            "value": " 34/34 [01:00&lt;00:00,  1.74s/it]"
          }
        },
        "d1a0902811ea4817b1c58b1cbf0f3642": {
          "model_module": "@jupyter-widgets/controls",
          "model_module_version": "1.5.0",
          "model_name": "HBoxModel",
          "state": {
            "_dom_classes": [],
            "_model_module": "@jupyter-widgets/controls",
            "_model_module_version": "1.5.0",
            "_model_name": "HBoxModel",
            "_view_count": null,
            "_view_module": "@jupyter-widgets/controls",
            "_view_module_version": "1.5.0",
            "_view_name": "HBoxView",
            "box_style": "",
            "children": [
              "IPY_MODEL_9f37a8cf3b374441baed13521c7f2cfd",
              "IPY_MODEL_827e80c90b9148708d722aa1719eb21a",
              "IPY_MODEL_0ae7260136d24566b664606c0bfd90b1"
            ],
            "layout": "IPY_MODEL_aa4ff36dd9c048048467c14d1c42dac9"
          }
        },
        "d56761af220b414fb45bf4261ebd6863": {
          "model_module": "@jupyter-widgets/controls",
          "model_module_version": "1.5.0",
          "model_name": "HTMLModel",
          "state": {
            "_dom_classes": [],
            "_model_module": "@jupyter-widgets/controls",
            "_model_module_version": "1.5.0",
            "_model_name": "HTMLModel",
            "_view_count": null,
            "_view_module": "@jupyter-widgets/controls",
            "_view_module_version": "1.5.0",
            "_view_name": "HTMLView",
            "description": "",
            "description_tooltip": null,
            "layout": "IPY_MODEL_9269f1fb2e7a40fbac9816357124fabd",
            "placeholder": "​",
            "style": "IPY_MODEL_e39aca76773042c28c99ece64582f7c0",
            "value": "Validation DataLoader 0: 100%"
          }
        },
        "d617b42171264e7b8b53d4b333e89296": {
          "model_module": "@jupyter-widgets/controls",
          "model_module_version": "1.5.0",
          "model_name": "DescriptionStyleModel",
          "state": {
            "_model_module": "@jupyter-widgets/controls",
            "_model_module_version": "1.5.0",
            "_model_name": "DescriptionStyleModel",
            "_view_count": null,
            "_view_module": "@jupyter-widgets/base",
            "_view_module_version": "1.2.0",
            "_view_name": "StyleView",
            "description_width": ""
          }
        },
        "d9359163328247d289998de0e2a70a54": {
          "model_module": "@jupyter-widgets/base",
          "model_module_version": "1.2.0",
          "model_name": "LayoutModel",
          "state": {
            "_model_module": "@jupyter-widgets/base",
            "_model_module_version": "1.2.0",
            "_model_name": "LayoutModel",
            "_view_count": null,
            "_view_module": "@jupyter-widgets/base",
            "_view_module_version": "1.2.0",
            "_view_name": "LayoutView",
            "align_content": null,
            "align_items": null,
            "align_self": null,
            "border": null,
            "bottom": null,
            "display": null,
            "flex": null,
            "flex_flow": null,
            "grid_area": null,
            "grid_auto_columns": null,
            "grid_auto_flow": null,
            "grid_auto_rows": null,
            "grid_column": null,
            "grid_gap": null,
            "grid_row": null,
            "grid_template_areas": null,
            "grid_template_columns": null,
            "grid_template_rows": null,
            "height": null,
            "justify_content": null,
            "justify_items": null,
            "left": null,
            "margin": null,
            "max_height": null,
            "max_width": null,
            "min_height": null,
            "min_width": null,
            "object_fit": null,
            "object_position": null,
            "order": null,
            "overflow": null,
            "overflow_x": null,
            "overflow_y": null,
            "padding": null,
            "right": null,
            "top": null,
            "visibility": null,
            "width": null
          }
        },
        "ddc1aaddeda24e918537619de9e44590": {
          "model_module": "@jupyter-widgets/controls",
          "model_module_version": "1.5.0",
          "model_name": "ProgressStyleModel",
          "state": {
            "_model_module": "@jupyter-widgets/controls",
            "_model_module_version": "1.5.0",
            "_model_name": "ProgressStyleModel",
            "_view_count": null,
            "_view_module": "@jupyter-widgets/base",
            "_view_module_version": "1.2.0",
            "_view_name": "StyleView",
            "bar_color": null,
            "description_width": ""
          }
        },
        "df2d2e0d73e344048c72ae68f13d36a9": {
          "model_module": "@jupyter-widgets/base",
          "model_module_version": "1.2.0",
          "model_name": "LayoutModel",
          "state": {
            "_model_module": "@jupyter-widgets/base",
            "_model_module_version": "1.2.0",
            "_model_name": "LayoutModel",
            "_view_count": null,
            "_view_module": "@jupyter-widgets/base",
            "_view_module_version": "1.2.0",
            "_view_name": "LayoutView",
            "align_content": null,
            "align_items": null,
            "align_self": null,
            "border": null,
            "bottom": null,
            "display": null,
            "flex": null,
            "flex_flow": null,
            "grid_area": null,
            "grid_auto_columns": null,
            "grid_auto_flow": null,
            "grid_auto_rows": null,
            "grid_column": null,
            "grid_gap": null,
            "grid_row": null,
            "grid_template_areas": null,
            "grid_template_columns": null,
            "grid_template_rows": null,
            "height": null,
            "justify_content": null,
            "justify_items": null,
            "left": null,
            "margin": null,
            "max_height": null,
            "max_width": null,
            "min_height": null,
            "min_width": null,
            "object_fit": null,
            "object_position": null,
            "order": null,
            "overflow": null,
            "overflow_x": null,
            "overflow_y": null,
            "padding": null,
            "right": null,
            "top": null,
            "visibility": null,
            "width": null
          }
        },
        "e05bc84fd7e74589bfed96848fafe9aa": {
          "model_module": "@jupyter-widgets/base",
          "model_module_version": "1.2.0",
          "model_name": "LayoutModel",
          "state": {
            "_model_module": "@jupyter-widgets/base",
            "_model_module_version": "1.2.0",
            "_model_name": "LayoutModel",
            "_view_count": null,
            "_view_module": "@jupyter-widgets/base",
            "_view_module_version": "1.2.0",
            "_view_name": "LayoutView",
            "align_content": null,
            "align_items": null,
            "align_self": null,
            "border": null,
            "bottom": null,
            "display": null,
            "flex": null,
            "flex_flow": null,
            "grid_area": null,
            "grid_auto_columns": null,
            "grid_auto_flow": null,
            "grid_auto_rows": null,
            "grid_column": null,
            "grid_gap": null,
            "grid_row": null,
            "grid_template_areas": null,
            "grid_template_columns": null,
            "grid_template_rows": null,
            "height": null,
            "justify_content": null,
            "justify_items": null,
            "left": null,
            "margin": null,
            "max_height": null,
            "max_width": null,
            "min_height": null,
            "min_width": null,
            "object_fit": null,
            "object_position": null,
            "order": null,
            "overflow": null,
            "overflow_x": null,
            "overflow_y": null,
            "padding": null,
            "right": null,
            "top": null,
            "visibility": null,
            "width": null
          }
        },
        "e39aca76773042c28c99ece64582f7c0": {
          "model_module": "@jupyter-widgets/controls",
          "model_module_version": "1.5.0",
          "model_name": "DescriptionStyleModel",
          "state": {
            "_model_module": "@jupyter-widgets/controls",
            "_model_module_version": "1.5.0",
            "_model_name": "DescriptionStyleModel",
            "_view_count": null,
            "_view_module": "@jupyter-widgets/base",
            "_view_module_version": "1.2.0",
            "_view_name": "StyleView",
            "description_width": ""
          }
        },
        "ec2a8a72f371432e9b5bf672315d9a91": {
          "model_module": "@jupyter-widgets/base",
          "model_module_version": "1.2.0",
          "model_name": "LayoutModel",
          "state": {
            "_model_module": "@jupyter-widgets/base",
            "_model_module_version": "1.2.0",
            "_model_name": "LayoutModel",
            "_view_count": null,
            "_view_module": "@jupyter-widgets/base",
            "_view_module_version": "1.2.0",
            "_view_name": "LayoutView",
            "align_content": null,
            "align_items": null,
            "align_self": null,
            "border": null,
            "bottom": null,
            "display": "inline-flex",
            "flex": null,
            "flex_flow": "row wrap",
            "grid_area": null,
            "grid_auto_columns": null,
            "grid_auto_flow": null,
            "grid_auto_rows": null,
            "grid_column": null,
            "grid_gap": null,
            "grid_row": null,
            "grid_template_areas": null,
            "grid_template_columns": null,
            "grid_template_rows": null,
            "height": null,
            "justify_content": null,
            "justify_items": null,
            "left": null,
            "margin": null,
            "max_height": null,
            "max_width": null,
            "min_height": null,
            "min_width": null,
            "object_fit": null,
            "object_position": null,
            "order": null,
            "overflow": null,
            "overflow_x": null,
            "overflow_y": null,
            "padding": null,
            "right": null,
            "top": null,
            "visibility": "hidden",
            "width": "100%"
          }
        },
        "f0b729d6fc184c2d95da9f7523afdafe": {
          "model_module": "@jupyter-widgets/controls",
          "model_module_version": "1.5.0",
          "model_name": "FloatProgressModel",
          "state": {
            "_dom_classes": [],
            "_model_module": "@jupyter-widgets/controls",
            "_model_module_version": "1.5.0",
            "_model_name": "FloatProgressModel",
            "_view_count": null,
            "_view_module": "@jupyter-widgets/controls",
            "_view_module_version": "1.5.0",
            "_view_name": "ProgressView",
            "bar_style": "success",
            "description": "",
            "description_tooltip": null,
            "layout": "IPY_MODEL_3b8703df9c5d41f7a3a0700a69b31af3",
            "max": 317,
            "min": 0,
            "orientation": "horizontal",
            "style": "IPY_MODEL_ddc1aaddeda24e918537619de9e44590",
            "value": 317
          }
        },
        "f116d91e14f440c8827b508694ee1d0b": {
          "model_module": "@jupyter-widgets/base",
          "model_module_version": "1.2.0",
          "model_name": "LayoutModel",
          "state": {
            "_model_module": "@jupyter-widgets/base",
            "_model_module_version": "1.2.0",
            "_model_name": "LayoutModel",
            "_view_count": null,
            "_view_module": "@jupyter-widgets/base",
            "_view_module_version": "1.2.0",
            "_view_name": "LayoutView",
            "align_content": null,
            "align_items": null,
            "align_self": null,
            "border": null,
            "bottom": null,
            "display": null,
            "flex": "2",
            "flex_flow": null,
            "grid_area": null,
            "grid_auto_columns": null,
            "grid_auto_flow": null,
            "grid_auto_rows": null,
            "grid_column": null,
            "grid_gap": null,
            "grid_row": null,
            "grid_template_areas": null,
            "grid_template_columns": null,
            "grid_template_rows": null,
            "height": null,
            "justify_content": null,
            "justify_items": null,
            "left": null,
            "margin": null,
            "max_height": null,
            "max_width": null,
            "min_height": null,
            "min_width": null,
            "object_fit": null,
            "object_position": null,
            "order": null,
            "overflow": null,
            "overflow_x": null,
            "overflow_y": null,
            "padding": null,
            "right": null,
            "top": null,
            "visibility": null,
            "width": null
          }
        },
        "f7531d02633f4841a9483af8ac76757f": {
          "model_module": "@jupyter-widgets/controls",
          "model_module_version": "1.5.0",
          "model_name": "DescriptionStyleModel",
          "state": {
            "_model_module": "@jupyter-widgets/controls",
            "_model_module_version": "1.5.0",
            "_model_name": "DescriptionStyleModel",
            "_view_count": null,
            "_view_module": "@jupyter-widgets/base",
            "_view_module_version": "1.2.0",
            "_view_name": "StyleView",
            "description_width": ""
          }
        },
        "fa6eb374d665461180360a7744c3da9a": {
          "model_module": "@jupyter-widgets/controls",
          "model_module_version": "1.5.0",
          "model_name": "DescriptionStyleModel",
          "state": {
            "_model_module": "@jupyter-widgets/controls",
            "_model_module_version": "1.5.0",
            "_model_name": "DescriptionStyleModel",
            "_view_count": null,
            "_view_module": "@jupyter-widgets/base",
            "_view_module_version": "1.2.0",
            "_view_name": "StyleView",
            "description_width": ""
          }
        },
        "fc836cc09f4b4dae9416f8622be35510": {
          "model_module": "@jupyter-widgets/base",
          "model_module_version": "1.2.0",
          "model_name": "LayoutModel",
          "state": {
            "_model_module": "@jupyter-widgets/base",
            "_model_module_version": "1.2.0",
            "_model_name": "LayoutModel",
            "_view_count": null,
            "_view_module": "@jupyter-widgets/base",
            "_view_module_version": "1.2.0",
            "_view_name": "LayoutView",
            "align_content": null,
            "align_items": null,
            "align_self": null,
            "border": null,
            "bottom": null,
            "display": null,
            "flex": null,
            "flex_flow": null,
            "grid_area": null,
            "grid_auto_columns": null,
            "grid_auto_flow": null,
            "grid_auto_rows": null,
            "grid_column": null,
            "grid_gap": null,
            "grid_row": null,
            "grid_template_areas": null,
            "grid_template_columns": null,
            "grid_template_rows": null,
            "height": null,
            "justify_content": null,
            "justify_items": null,
            "left": null,
            "margin": null,
            "max_height": null,
            "max_width": null,
            "min_height": null,
            "min_width": null,
            "object_fit": null,
            "object_position": null,
            "order": null,
            "overflow": null,
            "overflow_x": null,
            "overflow_y": null,
            "padding": null,
            "right": null,
            "top": null,
            "visibility": null,
            "width": null
          }
        }
      }
    }
  },
  "nbformat": 4,
  "nbformat_minor": 0
}
